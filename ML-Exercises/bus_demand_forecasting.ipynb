{
 "cells": [
  {
   "cell_type": "markdown",
   "metadata": {},
   "source": [
    "**TASK**: Forecasting bus demand in Banana Republic municipalities."
   ]
  },
  {
   "cell_type": "markdown",
   "metadata": {},
   "source": [
    "To forecast the hourly bus usage for next week, I followed these steps;\n",
    "\n",
    "1. Load and preprocess the dataset: After loading the dataset, I grouped the data by municipality and time to get the maximum bus usage for each hour.\n",
    "2. Data exploration: I plotted the data for each municipality.\n",
    "3. Baseline model: I built and tested a simple model to predict data for the last two weeks.\n",
    "4. Evaluation: I evaluated the performance of the model."
   ]
  },
  {
   "cell_type": "markdown",
   "metadata": {},
   "source": [
    "### Examining and Manipulating the Dataset"
   ]
  },
  {
   "cell_type": "code",
   "execution_count": 1,
   "metadata": {},
   "outputs": [
    {
     "data": {
      "text/html": [
       "<div>\n",
       "<style scoped>\n",
       "    .dataframe tbody tr th:only-of-type {\n",
       "        vertical-align: middle;\n",
       "    }\n",
       "\n",
       "    .dataframe tbody tr th {\n",
       "        vertical-align: top;\n",
       "    }\n",
       "\n",
       "    .dataframe thead th {\n",
       "        text-align: right;\n",
       "    }\n",
       "</style>\n",
       "<table border=\"1\" class=\"dataframe\">\n",
       "  <thead>\n",
       "    <tr style=\"text-align: right;\">\n",
       "      <th></th>\n",
       "      <th>timestamp</th>\n",
       "      <th>municipality_id</th>\n",
       "      <th>usage</th>\n",
       "      <th>total_capacity</th>\n",
       "    </tr>\n",
       "  </thead>\n",
       "  <tbody>\n",
       "    <tr>\n",
       "      <th>0</th>\n",
       "      <td>2017-06-04 07:59:42</td>\n",
       "      <td>9</td>\n",
       "      <td>454</td>\n",
       "      <td>1332</td>\n",
       "    </tr>\n",
       "    <tr>\n",
       "      <th>1</th>\n",
       "      <td>2017-06-04 07:59:42</td>\n",
       "      <td>8</td>\n",
       "      <td>556</td>\n",
       "      <td>2947</td>\n",
       "    </tr>\n",
       "    <tr>\n",
       "      <th>2</th>\n",
       "      <td>2017-06-04 07:59:42</td>\n",
       "      <td>4</td>\n",
       "      <td>1090</td>\n",
       "      <td>3893</td>\n",
       "    </tr>\n",
       "    <tr>\n",
       "      <th>3</th>\n",
       "      <td>2017-06-04 07:59:42</td>\n",
       "      <td>0</td>\n",
       "      <td>204</td>\n",
       "      <td>2813</td>\n",
       "    </tr>\n",
       "    <tr>\n",
       "      <th>4</th>\n",
       "      <td>2017-06-04 07:59:42</td>\n",
       "      <td>7</td>\n",
       "      <td>718</td>\n",
       "      <td>2019</td>\n",
       "    </tr>\n",
       "  </tbody>\n",
       "</table>\n",
       "</div>"
      ],
      "text/plain": [
       "             timestamp  municipality_id  usage  total_capacity\n",
       "0  2017-06-04 07:59:42                9    454            1332\n",
       "1  2017-06-04 07:59:42                8    556            2947\n",
       "2  2017-06-04 07:59:42                4   1090            3893\n",
       "3  2017-06-04 07:59:42                0    204            2813\n",
       "4  2017-06-04 07:59:42                7    718            2019"
      ]
     },
     "execution_count": 1,
     "metadata": {},
     "output_type": "execute_result"
    }
   ],
   "source": [
    "# required libraries\n",
    "import pandas as pd\n",
    "import numpy as np\n",
    "\n",
    "import matplotlib.pyplot as plt\n",
    "import seaborn as sns\n",
    "\n",
    "import statsmodels.api as sm\n",
    "\n",
    "\n",
    "import warnings\n",
    "warnings.simplefilter(action = \"ignore\", category = FutureWarning)\n",
    "warnings.filterwarnings(action = \"ignore\", category = UserWarning)\n",
    "\n",
    "\n",
    "# Load the dataset\n",
    "url = 'https://pi.works/3w8IJbV'\n",
    "bus_demand = pd.read_csv(url)\n",
    "df = bus_demand.copy()\n",
    "\n",
    "df.head()"
   ]
  },
  {
   "cell_type": "code",
   "execution_count": 2,
   "metadata": {},
   "outputs": [
    {
     "data": {
      "text/plain": [
       "timestamp          0\n",
       "municipality_id    0\n",
       "usage              0\n",
       "total_capacity     0\n",
       "dtype: int64"
      ]
     },
     "execution_count": 2,
     "metadata": {},
     "output_type": "execute_result"
    }
   ],
   "source": [
    "df.isnull().sum() # any nan values?"
   ]
  },
  {
   "cell_type": "code",
   "execution_count": 3,
   "metadata": {},
   "outputs": [
    {
     "data": {
      "text/html": [
       "<div>\n",
       "<style scoped>\n",
       "    .dataframe tbody tr th:only-of-type {\n",
       "        vertical-align: middle;\n",
       "    }\n",
       "\n",
       "    .dataframe tbody tr th {\n",
       "        vertical-align: top;\n",
       "    }\n",
       "\n",
       "    .dataframe thead th {\n",
       "        text-align: right;\n",
       "    }\n",
       "</style>\n",
       "<table border=\"1\" class=\"dataframe\">\n",
       "  <thead>\n",
       "    <tr style=\"text-align: right;\">\n",
       "      <th></th>\n",
       "      <th>timestamp</th>\n",
       "      <th>municipality_id</th>\n",
       "      <th>usage</th>\n",
       "      <th>total_capacity</th>\n",
       "    </tr>\n",
       "  </thead>\n",
       "  <tbody>\n",
       "  </tbody>\n",
       "</table>\n",
       "</div>"
      ],
      "text/plain": [
       "Empty DataFrame\n",
       "Columns: [timestamp, municipality_id, usage, total_capacity]\n",
       "Index: []"
      ]
     },
     "execution_count": 3,
     "metadata": {},
     "output_type": "execute_result"
    }
   ],
   "source": [
    "df[df.duplicated()] # any duplicated?"
   ]
  },
  {
   "cell_type": "code",
   "execution_count": 4,
   "metadata": {},
   "outputs": [
    {
     "name": "stdout",
     "output_type": "stream",
     "text": [
      "<class 'pandas.core.frame.DataFrame'>\n",
      "RangeIndex: 13070 entries, 0 to 13069\n",
      "Data columns (total 4 columns):\n",
      " #   Column           Non-Null Count  Dtype \n",
      "---  ------           --------------  ----- \n",
      " 0   timestamp        13070 non-null  object\n",
      " 1   municipality_id  13070 non-null  int64 \n",
      " 2   usage            13070 non-null  int64 \n",
      " 3   total_capacity   13070 non-null  int64 \n",
      "dtypes: int64(3), object(1)\n",
      "memory usage: 408.6+ KB\n"
     ]
    }
   ],
   "source": [
    "df.info() # the dataset info"
   ]
  },
  {
   "cell_type": "code",
   "execution_count": 5,
   "metadata": {},
   "outputs": [],
   "source": [
    "# converting steps\n",
    "df['timestamp'] = pd.to_datetime(df['timestamp'])\n",
    "df['municipality_id'] = df['municipality_id'].astype(str)"
   ]
  },
  {
   "cell_type": "code",
   "execution_count": 6,
   "metadata": {},
   "outputs": [
    {
     "name": "stdout",
     "output_type": "stream",
     "text": [
      "<class 'pandas.core.frame.DataFrame'>\n",
      "RangeIndex: 13070 entries, 0 to 13069\n",
      "Data columns (total 4 columns):\n",
      " #   Column           Non-Null Count  Dtype         \n",
      "---  ------           --------------  -----         \n",
      " 0   timestamp        13070 non-null  datetime64[ns]\n",
      " 1   municipality_id  13070 non-null  object        \n",
      " 2   usage            13070 non-null  int64         \n",
      " 3   total_capacity   13070 non-null  int64         \n",
      "dtypes: datetime64[ns](1), int64(2), object(1)\n",
      "memory usage: 408.6+ KB\n"
     ]
    }
   ],
   "source": [
    "df.info()"
   ]
  },
  {
   "cell_type": "code",
   "execution_count": 7,
   "metadata": {},
   "outputs": [
    {
     "data": {
      "text/plain": [
       "(Timestamp('2017-06-04 07:59:42'), Timestamp('2017-08-19 16:30:35'))"
      ]
     },
     "execution_count": 7,
     "metadata": {},
     "output_type": "execute_result"
    }
   ],
   "source": [
    "df['timestamp'].min(), df['timestamp'].max()"
   ]
  },
  {
   "cell_type": "code",
   "execution_count": 8,
   "metadata": {},
   "outputs": [
    {
     "data": {
      "text/html": [
       "<div>\n",
       "<style scoped>\n",
       "    .dataframe tbody tr th:only-of-type {\n",
       "        vertical-align: middle;\n",
       "    }\n",
       "\n",
       "    .dataframe tbody tr th {\n",
       "        vertical-align: top;\n",
       "    }\n",
       "\n",
       "    .dataframe thead th {\n",
       "        text-align: right;\n",
       "    }\n",
       "</style>\n",
       "<table border=\"1\" class=\"dataframe\">\n",
       "  <thead>\n",
       "    <tr style=\"text-align: right;\">\n",
       "      <th></th>\n",
       "      <th>count</th>\n",
       "      <th>mean</th>\n",
       "      <th>std</th>\n",
       "      <th>min</th>\n",
       "      <th>25%</th>\n",
       "      <th>50%</th>\n",
       "      <th>75%</th>\n",
       "      <th>max</th>\n",
       "    </tr>\n",
       "  </thead>\n",
       "  <tbody>\n",
       "    <tr>\n",
       "      <th>usage</th>\n",
       "      <td>13070.0</td>\n",
       "      <td>876.002984</td>\n",
       "      <td>679.287109</td>\n",
       "      <td>11.0</td>\n",
       "      <td>403.0</td>\n",
       "      <td>692.0</td>\n",
       "      <td>1190.0</td>\n",
       "      <td>3508.0</td>\n",
       "    </tr>\n",
       "    <tr>\n",
       "      <th>total_capacity</th>\n",
       "      <td>13070.0</td>\n",
       "      <td>1972.800000</td>\n",
       "      <td>1144.074782</td>\n",
       "      <td>397.0</td>\n",
       "      <td>697.0</td>\n",
       "      <td>1974.5</td>\n",
       "      <td>2947.0</td>\n",
       "      <td>3893.0</td>\n",
       "    </tr>\n",
       "  </tbody>\n",
       "</table>\n",
       "</div>"
      ],
      "text/plain": [
       "                  count         mean          std    min    25%     50%  \\\n",
       "usage           13070.0   876.002984   679.287109   11.0  403.0   692.0   \n",
       "total_capacity  13070.0  1972.800000  1144.074782  397.0  697.0  1974.5   \n",
       "\n",
       "                   75%     max  \n",
       "usage           1190.0  3508.0  \n",
       "total_capacity  2947.0  3893.0  "
      ]
     },
     "execution_count": 8,
     "metadata": {},
     "output_type": "execute_result"
    }
   ],
   "source": [
    "# describe\n",
    "df.describe().T"
   ]
  },
  {
   "cell_type": "code",
   "execution_count": 9,
   "metadata": {},
   "outputs": [],
   "source": [
    "# extract hour from the timestamp column to create an time_hour column\n",
    "df['hour'] = df['timestamp'].dt.hour\n",
    "df['date'] = df['timestamp'].dt.date"
   ]
  },
  {
   "cell_type": "code",
   "execution_count": 10,
   "metadata": {},
   "outputs": [],
   "source": [
    "df['date'] = pd.to_datetime(df['date'])"
   ]
  },
  {
   "cell_type": "code",
   "execution_count": 11,
   "metadata": {},
   "outputs": [
    {
     "name": "stdout",
     "output_type": "stream",
     "text": [
      "<class 'pandas.core.frame.DataFrame'>\n",
      "RangeIndex: 13070 entries, 0 to 13069\n",
      "Data columns (total 6 columns):\n",
      " #   Column           Non-Null Count  Dtype         \n",
      "---  ------           --------------  -----         \n",
      " 0   timestamp        13070 non-null  datetime64[ns]\n",
      " 1   municipality_id  13070 non-null  object        \n",
      " 2   usage            13070 non-null  int64         \n",
      " 3   total_capacity   13070 non-null  int64         \n",
      " 4   hour             13070 non-null  int64         \n",
      " 5   date             13070 non-null  datetime64[ns]\n",
      "dtypes: datetime64[ns](2), int64(3), object(1)\n",
      "memory usage: 612.8+ KB\n"
     ]
    }
   ],
   "source": [
    "df.info()"
   ]
  },
  {
   "cell_type": "code",
   "execution_count": 12,
   "metadata": {},
   "outputs": [
    {
     "data": {
      "text/html": [
       "<div>\n",
       "<style scoped>\n",
       "    .dataframe tbody tr th:only-of-type {\n",
       "        vertical-align: middle;\n",
       "    }\n",
       "\n",
       "    .dataframe tbody tr th {\n",
       "        vertical-align: top;\n",
       "    }\n",
       "\n",
       "    .dataframe thead th {\n",
       "        text-align: right;\n",
       "    }\n",
       "</style>\n",
       "<table border=\"1\" class=\"dataframe\">\n",
       "  <thead>\n",
       "    <tr style=\"text-align: right;\">\n",
       "      <th></th>\n",
       "      <th>timestamp</th>\n",
       "      <th>municipality_id</th>\n",
       "      <th>usage</th>\n",
       "      <th>total_capacity</th>\n",
       "      <th>hour</th>\n",
       "      <th>date</th>\n",
       "    </tr>\n",
       "  </thead>\n",
       "  <tbody>\n",
       "    <tr>\n",
       "      <th>0</th>\n",
       "      <td>2017-06-04 07:59:42</td>\n",
       "      <td>9</td>\n",
       "      <td>454</td>\n",
       "      <td>1332</td>\n",
       "      <td>7</td>\n",
       "      <td>2017-06-04</td>\n",
       "    </tr>\n",
       "    <tr>\n",
       "      <th>1</th>\n",
       "      <td>2017-06-04 07:59:42</td>\n",
       "      <td>8</td>\n",
       "      <td>556</td>\n",
       "      <td>2947</td>\n",
       "      <td>7</td>\n",
       "      <td>2017-06-04</td>\n",
       "    </tr>\n",
       "    <tr>\n",
       "      <th>2</th>\n",
       "      <td>2017-06-04 07:59:42</td>\n",
       "      <td>4</td>\n",
       "      <td>1090</td>\n",
       "      <td>3893</td>\n",
       "      <td>7</td>\n",
       "      <td>2017-06-04</td>\n",
       "    </tr>\n",
       "    <tr>\n",
       "      <th>3</th>\n",
       "      <td>2017-06-04 07:59:42</td>\n",
       "      <td>0</td>\n",
       "      <td>204</td>\n",
       "      <td>2813</td>\n",
       "      <td>7</td>\n",
       "      <td>2017-06-04</td>\n",
       "    </tr>\n",
       "    <tr>\n",
       "      <th>4</th>\n",
       "      <td>2017-06-04 07:59:42</td>\n",
       "      <td>7</td>\n",
       "      <td>718</td>\n",
       "      <td>2019</td>\n",
       "      <td>7</td>\n",
       "      <td>2017-06-04</td>\n",
       "    </tr>\n",
       "  </tbody>\n",
       "</table>\n",
       "</div>"
      ],
      "text/plain": [
       "            timestamp municipality_id  usage  total_capacity  hour       date\n",
       "0 2017-06-04 07:59:42               9    454            1332     7 2017-06-04\n",
       "1 2017-06-04 07:59:42               8    556            2947     7 2017-06-04\n",
       "2 2017-06-04 07:59:42               4   1090            3893     7 2017-06-04\n",
       "3 2017-06-04 07:59:42               0    204            2813     7 2017-06-04\n",
       "4 2017-06-04 07:59:42               7    718            2019     7 2017-06-04"
      ]
     },
     "execution_count": 12,
     "metadata": {},
     "output_type": "execute_result"
    }
   ],
   "source": [
    "df.head()"
   ]
  },
  {
   "cell_type": "code",
   "execution_count": 13,
   "metadata": {},
   "outputs": [],
   "source": [
    "df = df.groupby([\"municipality_id\",\"date\", \"hour\"])[[\"usage\"]].max().reset_index()"
   ]
  },
  {
   "cell_type": "code",
   "execution_count": 14,
   "metadata": {},
   "outputs": [
    {
     "data": {
      "text/html": [
       "<div>\n",
       "<style scoped>\n",
       "    .dataframe tbody tr th:only-of-type {\n",
       "        vertical-align: middle;\n",
       "    }\n",
       "\n",
       "    .dataframe tbody tr th {\n",
       "        vertical-align: top;\n",
       "    }\n",
       "\n",
       "    .dataframe thead th {\n",
       "        text-align: right;\n",
       "    }\n",
       "</style>\n",
       "<table border=\"1\" class=\"dataframe\">\n",
       "  <thead>\n",
       "    <tr style=\"text-align: right;\">\n",
       "      <th></th>\n",
       "      <th>municipality_id</th>\n",
       "      <th>date</th>\n",
       "      <th>hour</th>\n",
       "      <th>usage</th>\n",
       "    </tr>\n",
       "  </thead>\n",
       "  <tbody>\n",
       "    <tr>\n",
       "      <th>0</th>\n",
       "      <td>0</td>\n",
       "      <td>2017-06-04</td>\n",
       "      <td>7</td>\n",
       "      <td>204</td>\n",
       "    </tr>\n",
       "    <tr>\n",
       "      <th>1</th>\n",
       "      <td>0</td>\n",
       "      <td>2017-06-04</td>\n",
       "      <td>8</td>\n",
       "      <td>332</td>\n",
       "    </tr>\n",
       "    <tr>\n",
       "      <th>2</th>\n",
       "      <td>0</td>\n",
       "      <td>2017-06-04</td>\n",
       "      <td>9</td>\n",
       "      <td>485</td>\n",
       "    </tr>\n",
       "    <tr>\n",
       "      <th>3</th>\n",
       "      <td>0</td>\n",
       "      <td>2017-06-04</td>\n",
       "      <td>10</td>\n",
       "      <td>583</td>\n",
       "    </tr>\n",
       "    <tr>\n",
       "      <th>4</th>\n",
       "      <td>0</td>\n",
       "      <td>2017-06-04</td>\n",
       "      <td>11</td>\n",
       "      <td>614</td>\n",
       "    </tr>\n",
       "    <tr>\n",
       "      <th>5</th>\n",
       "      <td>0</td>\n",
       "      <td>2017-06-04</td>\n",
       "      <td>12</td>\n",
       "      <td>613</td>\n",
       "    </tr>\n",
       "    <tr>\n",
       "      <th>6</th>\n",
       "      <td>0</td>\n",
       "      <td>2017-06-04</td>\n",
       "      <td>13</td>\n",
       "      <td>605</td>\n",
       "    </tr>\n",
       "    <tr>\n",
       "      <th>7</th>\n",
       "      <td>0</td>\n",
       "      <td>2017-06-04</td>\n",
       "      <td>14</td>\n",
       "      <td>585</td>\n",
       "    </tr>\n",
       "    <tr>\n",
       "      <th>8</th>\n",
       "      <td>0</td>\n",
       "      <td>2017-06-04</td>\n",
       "      <td>15</td>\n",
       "      <td>520</td>\n",
       "    </tr>\n",
       "    <tr>\n",
       "      <th>9</th>\n",
       "      <td>0</td>\n",
       "      <td>2017-06-04</td>\n",
       "      <td>16</td>\n",
       "      <td>470</td>\n",
       "    </tr>\n",
       "  </tbody>\n",
       "</table>\n",
       "</div>"
      ],
      "text/plain": [
       "  municipality_id       date  hour  usage\n",
       "0               0 2017-06-04     7    204\n",
       "1               0 2017-06-04     8    332\n",
       "2               0 2017-06-04     9    485\n",
       "3               0 2017-06-04    10    583\n",
       "4               0 2017-06-04    11    614\n",
       "5               0 2017-06-04    12    613\n",
       "6               0 2017-06-04    13    605\n",
       "7               0 2017-06-04    14    585\n",
       "8               0 2017-06-04    15    520\n",
       "9               0 2017-06-04    16    470"
      ]
     },
     "execution_count": 14,
     "metadata": {},
     "output_type": "execute_result"
    }
   ],
   "source": [
    "df.head(10)"
   ]
  },
  {
   "cell_type": "code",
   "execution_count": 15,
   "metadata": {},
   "outputs": [
    {
     "data": {
      "text/html": [
       "<div>\n",
       "<style scoped>\n",
       "    .dataframe tbody tr th:only-of-type {\n",
       "        vertical-align: middle;\n",
       "    }\n",
       "\n",
       "    .dataframe tbody tr th {\n",
       "        vertical-align: top;\n",
       "    }\n",
       "\n",
       "    .dataframe thead th {\n",
       "        text-align: right;\n",
       "    }\n",
       "</style>\n",
       "<table border=\"1\" class=\"dataframe\">\n",
       "  <thead>\n",
       "    <tr style=\"text-align: right;\">\n",
       "      <th></th>\n",
       "      <th>municipality_id</th>\n",
       "      <th>date</th>\n",
       "      <th>hour</th>\n",
       "      <th>usage</th>\n",
       "    </tr>\n",
       "  </thead>\n",
       "  <tbody>\n",
       "    <tr>\n",
       "      <th>6735</th>\n",
       "      <td>9</td>\n",
       "      <td>2017-08-19</td>\n",
       "      <td>12</td>\n",
       "      <td>849</td>\n",
       "    </tr>\n",
       "    <tr>\n",
       "      <th>6736</th>\n",
       "      <td>9</td>\n",
       "      <td>2017-08-19</td>\n",
       "      <td>13</td>\n",
       "      <td>941</td>\n",
       "    </tr>\n",
       "    <tr>\n",
       "      <th>6737</th>\n",
       "      <td>9</td>\n",
       "      <td>2017-08-19</td>\n",
       "      <td>14</td>\n",
       "      <td>983</td>\n",
       "    </tr>\n",
       "    <tr>\n",
       "      <th>6738</th>\n",
       "      <td>9</td>\n",
       "      <td>2017-08-19</td>\n",
       "      <td>15</td>\n",
       "      <td>976</td>\n",
       "    </tr>\n",
       "    <tr>\n",
       "      <th>6739</th>\n",
       "      <td>9</td>\n",
       "      <td>2017-08-19</td>\n",
       "      <td>16</td>\n",
       "      <td>879</td>\n",
       "    </tr>\n",
       "  </tbody>\n",
       "</table>\n",
       "</div>"
      ],
      "text/plain": [
       "     municipality_id       date  hour  usage\n",
       "6735               9 2017-08-19    12    849\n",
       "6736               9 2017-08-19    13    941\n",
       "6737               9 2017-08-19    14    983\n",
       "6738               9 2017-08-19    15    976\n",
       "6739               9 2017-08-19    16    879"
      ]
     },
     "execution_count": 15,
     "metadata": {},
     "output_type": "execute_result"
    }
   ],
   "source": [
    "df.tail()"
   ]
  },
  {
   "cell_type": "code",
   "execution_count": 16,
   "metadata": {},
   "outputs": [
    {
     "data": {
      "text/html": [
       "<div>\n",
       "<style scoped>\n",
       "    .dataframe tbody tr th:only-of-type {\n",
       "        vertical-align: middle;\n",
       "    }\n",
       "\n",
       "    .dataframe tbody tr th {\n",
       "        vertical-align: top;\n",
       "    }\n",
       "\n",
       "    .dataframe thead th {\n",
       "        text-align: right;\n",
       "    }\n",
       "</style>\n",
       "<table border=\"1\" class=\"dataframe\">\n",
       "  <thead>\n",
       "    <tr style=\"text-align: right;\">\n",
       "      <th></th>\n",
       "      <th>hour</th>\n",
       "      <th>usage</th>\n",
       "    </tr>\n",
       "    <tr>\n",
       "      <th>municipality_id</th>\n",
       "      <th></th>\n",
       "      <th></th>\n",
       "    </tr>\n",
       "  </thead>\n",
       "  <tbody>\n",
       "    <tr>\n",
       "      <th>0</th>\n",
       "      <td>16</td>\n",
       "      <td>1543</td>\n",
       "    </tr>\n",
       "    <tr>\n",
       "      <th>1</th>\n",
       "      <td>16</td>\n",
       "      <td>412</td>\n",
       "    </tr>\n",
       "    <tr>\n",
       "      <th>2</th>\n",
       "      <td>16</td>\n",
       "      <td>697</td>\n",
       "    </tr>\n",
       "    <tr>\n",
       "      <th>3</th>\n",
       "      <td>16</td>\n",
       "      <td>1646</td>\n",
       "    </tr>\n",
       "    <tr>\n",
       "      <th>4</th>\n",
       "      <td>16</td>\n",
       "      <td>3508</td>\n",
       "    </tr>\n",
       "    <tr>\n",
       "      <th>5</th>\n",
       "      <td>16</td>\n",
       "      <td>582</td>\n",
       "    </tr>\n",
       "    <tr>\n",
       "      <th>6</th>\n",
       "      <td>16</td>\n",
       "      <td>1920</td>\n",
       "    </tr>\n",
       "    <tr>\n",
       "      <th>7</th>\n",
       "      <td>16</td>\n",
       "      <td>1923</td>\n",
       "    </tr>\n",
       "    <tr>\n",
       "      <th>8</th>\n",
       "      <td>16</td>\n",
       "      <td>1476</td>\n",
       "    </tr>\n",
       "    <tr>\n",
       "      <th>9</th>\n",
       "      <td>16</td>\n",
       "      <td>1244</td>\n",
       "    </tr>\n",
       "  </tbody>\n",
       "</table>\n",
       "</div>"
      ],
      "text/plain": [
       "                 hour  usage\n",
       "municipality_id             \n",
       "0                  16   1543\n",
       "1                  16    412\n",
       "2                  16    697\n",
       "3                  16   1646\n",
       "4                  16   3508\n",
       "5                  16    582\n",
       "6                  16   1920\n",
       "7                  16   1923\n",
       "8                  16   1476\n",
       "9                  16   1244"
      ]
     },
     "execution_count": 16,
     "metadata": {},
     "output_type": "execute_result"
    }
   ],
   "source": [
    "df.groupby(['municipality_id'])[['hour','usage']].max()"
   ]
  },
  {
   "cell_type": "code",
   "execution_count": 17,
   "metadata": {},
   "outputs": [
    {
     "data": {
      "text/plain": [
       "7     260\n",
       "8     720\n",
       "9     720\n",
       "10    720\n",
       "11    720\n",
       "12    720\n",
       "13    720\n",
       "14    720\n",
       "15    720\n",
       "16    720\n",
       "Name: hour, dtype: int64"
      ]
     },
     "execution_count": 17,
     "metadata": {},
     "output_type": "execute_result"
    }
   ],
   "source": [
    "df.hour.value_counts().sort_index()"
   ]
  },
  {
   "cell_type": "markdown",
   "metadata": {},
   "source": [
    "### Visualization"
   ]
  },
  {
   "cell_type": "code",
   "execution_count": 18,
   "metadata": {},
   "outputs": [
    {
     "data": {
      "image/png": "[encoded data removed]",
      "text/plain": [
       "<Figure size 864x576 with 1 Axes>"
      ]
     },
     "metadata": {
      "needs_background": "light"
     },
     "output_type": "display_data"
    }
   ],
   "source": [
    "np.random.seed(123)\n",
    "fig, ax = plt.subplots(figsize = (12, 8))\n",
    "mun_ids = []\n",
    "\n",
    "for i in range(10):\n",
    "    mun_ids.append('mun_id_' + str(i))\n",
    "    mun_id = df.loc[df['municipality_id'] == str(i)]\n",
    "    sns.regplot(x = 'hour', y = 'usage', data = mun_id,\n",
    "                ci = None,\n",
    "                ax = ax,\n",
    "                line_kws = {'lw': 2},\n",
    "                scatter = True, truncate=False, label = mun_ids[i])\n",
    "plt.legend(fontsize = 10, ncol = 2, loc = 'upper right')\n",
    "plt.show();"
   ]
  },
  {
   "cell_type": "code",
   "execution_count": 19,
   "metadata": {},
   "outputs": [],
   "source": [
    "# sns.lmplot(data = df, x = 'hour', y = 'usage', hue = 'municipality_id', scatter_kws={'s': 22});"
   ]
  },
  {
   "cell_type": "code",
   "execution_count": 20,
   "metadata": {},
   "outputs": [
    {
     "data": {
      "image/png": "[encoded data removed]",
      "text/plain": [
       "<Figure size 432x432 with 3 Axes>"
      ]
     },
     "metadata": {
      "needs_background": "light"
     },
     "output_type": "display_data"
    }
   ],
   "source": [
    "mun_id_7 = df.loc[df['municipality_id'] == str(7)]\n",
    "sns.jointplot(x = 'hour', y = 'usage', data = mun_id, kind = 'reg');"
   ]
  },
  {
   "cell_type": "code",
   "execution_count": 21,
   "metadata": {},
   "outputs": [
    {
     "data": {
      "text/html": [
       "<div>\n",
       "<style scoped>\n",
       "    .dataframe tbody tr th:only-of-type {\n",
       "        vertical-align: middle;\n",
       "    }\n",
       "\n",
       "    .dataframe tbody tr th {\n",
       "        vertical-align: top;\n",
       "    }\n",
       "\n",
       "    .dataframe thead th {\n",
       "        text-align: right;\n",
       "    }\n",
       "</style>\n",
       "<table border=\"1\" class=\"dataframe\">\n",
       "  <thead>\n",
       "    <tr style=\"text-align: right;\">\n",
       "      <th></th>\n",
       "      <th>hour</th>\n",
       "      <th>usage</th>\n",
       "    </tr>\n",
       "  </thead>\n",
       "  <tbody>\n",
       "    <tr>\n",
       "      <th>hour</th>\n",
       "      <td>1.000000</td>\n",
       "      <td>0.186771</td>\n",
       "    </tr>\n",
       "    <tr>\n",
       "      <th>usage</th>\n",
       "      <td>0.186771</td>\n",
       "      <td>1.000000</td>\n",
       "    </tr>\n",
       "  </tbody>\n",
       "</table>\n",
       "</div>"
      ],
      "text/plain": [
       "           hour     usage\n",
       "hour   1.000000  0.186771\n",
       "usage  0.186771  1.000000"
      ]
     },
     "execution_count": 21,
     "metadata": {},
     "output_type": "execute_result"
    }
   ],
   "source": [
    "df.corr()"
   ]
  },
  {
   "cell_type": "markdown",
   "metadata": {},
   "source": [
    "### Modeling and Prediction"
   ]
  },
  {
   "cell_type": "code",
   "execution_count": 22,
   "metadata": {},
   "outputs": [
    {
     "data": {
      "text/html": [
       "<div>\n",
       "<style scoped>\n",
       "    .dataframe tbody tr th:only-of-type {\n",
       "        vertical-align: middle;\n",
       "    }\n",
       "\n",
       "    .dataframe tbody tr th {\n",
       "        vertical-align: top;\n",
       "    }\n",
       "\n",
       "    .dataframe thead th {\n",
       "        text-align: right;\n",
       "    }\n",
       "</style>\n",
       "<table border=\"1\" class=\"dataframe\">\n",
       "  <thead>\n",
       "    <tr style=\"text-align: right;\">\n",
       "      <th></th>\n",
       "      <th>municipality_id</th>\n",
       "      <th>date</th>\n",
       "      <th>hour</th>\n",
       "      <th>usage</th>\n",
       "    </tr>\n",
       "  </thead>\n",
       "  <tbody>\n",
       "    <tr>\n",
       "      <th>0</th>\n",
       "      <td>0</td>\n",
       "      <td>2017-06-04</td>\n",
       "      <td>7</td>\n",
       "      <td>204</td>\n",
       "    </tr>\n",
       "    <tr>\n",
       "      <th>1</th>\n",
       "      <td>0</td>\n",
       "      <td>2017-06-04</td>\n",
       "      <td>8</td>\n",
       "      <td>332</td>\n",
       "    </tr>\n",
       "    <tr>\n",
       "      <th>2</th>\n",
       "      <td>0</td>\n",
       "      <td>2017-06-04</td>\n",
       "      <td>9</td>\n",
       "      <td>485</td>\n",
       "    </tr>\n",
       "    <tr>\n",
       "      <th>3</th>\n",
       "      <td>0</td>\n",
       "      <td>2017-06-04</td>\n",
       "      <td>10</td>\n",
       "      <td>583</td>\n",
       "    </tr>\n",
       "    <tr>\n",
       "      <th>4</th>\n",
       "      <td>0</td>\n",
       "      <td>2017-06-04</td>\n",
       "      <td>11</td>\n",
       "      <td>614</td>\n",
       "    </tr>\n",
       "  </tbody>\n",
       "</table>\n",
       "</div>"
      ],
      "text/plain": [
       "  municipality_id       date  hour  usage\n",
       "0               0 2017-06-04     7    204\n",
       "1               0 2017-06-04     8    332\n",
       "2               0 2017-06-04     9    485\n",
       "3               0 2017-06-04    10    583\n",
       "4               0 2017-06-04    11    614"
      ]
     },
     "execution_count": 22,
     "metadata": {},
     "output_type": "execute_result"
    }
   ],
   "source": [
    "df.head()"
   ]
  },
  {
   "cell_type": "code",
   "execution_count": 23,
   "metadata": {},
   "outputs": [],
   "source": [
    "# Split the dataset into training and test sets\n",
    "train = df[df['date'] < '2017-08-05']\n",
    "test = df[df['date'] >= '2017-08-05']"
   ]
  },
  {
   "cell_type": "markdown",
   "metadata": {},
   "source": [
    "#### Model: Statsmodels (Basic)"
   ]
  },
  {
   "cell_type": "markdown",
   "metadata": {},
   "source": [
    "* statsmodels is used because there is a linear relationship between 'hour' and 'stage'"
   ]
  },
  {
   "cell_type": "code",
   "execution_count": 24,
   "metadata": {},
   "outputs": [
    {
     "name": "stdout",
     "output_type": "stream",
     "text": [
      "\n",
      " ******************* For Municipality Id: 0 ******************* \n",
      "Significance of the model (significant if p-value < 0.05):  3.021347538043923e-36\n",
      "Success percentage of the model (r-squared):  25.80532552180047\n",
      "The mean squared error of the model (MSE):  36801.95836586913\n",
      "Error value of the model (RMSE):  191.8383652084982\n",
      "\n",
      " ******************* For Municipality Id: 1 ******************* \n",
      "Significance of the model (significant if p-value < 0.05):  8.99226835960854e-68\n",
      "Success percentage of the model (r-squared):  43.52852897889099\n",
      "The mean squared error of the model (MSE):  4340.602729575696\n",
      "Error value of the model (RMSE):  65.8832507514292\n",
      "\n",
      " ******************* For Municipality Id: 2 ******************* \n",
      "Significance of the model (significant if p-value < 0.05):  4.467862918166972e-36\n",
      "Success percentage of the model (r-squared):  25.69629959734695\n",
      "The mean squared error of the model (MSE):  10742.543121998953\n",
      "Error value of the model (RMSE):  103.64624026948084\n",
      "\n",
      " ******************* For Municipality Id: 3 ******************* \n",
      "Significance of the model (significant if p-value < 0.05):  6.474206977824567e-19\n",
      "Success percentage of the model (r-squared):  13.846593717095256\n",
      "The mean squared error of the model (MSE):  115493.51528687029\n",
      "Error value of the model (RMSE):  339.84336875518153\n",
      "\n",
      " ******************* For Municipality Id: 4 ******************* \n",
      "Significance of the model (significant if p-value < 0.05):  2.0442229293624758e-13\n",
      "Success percentage of the model (r-squared):  9.68892236157599\n",
      "The mean squared error of the model (MSE):  694858.5175577083\n",
      "Error value of the model (RMSE):  833.5817401777155\n",
      "\n",
      " ******************* For Municipality Id: 5 ******************* \n",
      "Significance of the model (significant if p-value < 0.05):  3.592993086786805e-43\n",
      "Success percentage of the model (r-squared):  30.117797565698833\n",
      "The mean squared error of the model (MSE):  6763.563026747691\n",
      "Error value of the model (RMSE):  82.24088415592145\n",
      "\n",
      " ******************* For Municipality Id: 6 ******************* \n",
      "Significance of the model (significant if p-value < 0.05):  2.2565338090817233e-30\n",
      "Success percentage of the model (r-squared):  21.944207482148215\n",
      "The mean squared error of the model (MSE):  63310.49176259483\n",
      "Error value of the model (RMSE):  251.61576215053546\n",
      "\n",
      " ******************* For Municipality Id: 7 ******************* \n",
      "Significance of the model (significant if p-value < 0.05):  5.2595535900984156e-62\n",
      "Success percentage of the model (r-squared):  40.63427404575323\n",
      "The mean squared error of the model (MSE):  41235.376681065834\n",
      "Error value of the model (RMSE):  203.0649568021667\n",
      "\n",
      " ******************* For Municipality Id: 8 ******************* \n",
      "Significance of the model (significant if p-value < 0.05):  2.1241962530290113e-33\n",
      "Success percentage of the model (r-squared):  23.957546353638648\n",
      "The mean squared error of the model (MSE):  65132.36867296022\n",
      "Error value of the model (RMSE):  255.2104399764246\n",
      "\n",
      " ******************* For Municipality Id: 9 ******************* \n",
      "Significance of the model (significant if p-value < 0.05):  7.486532225541053e-66\n",
      "Success percentage of the model (r-squared):  42.58067911838207\n",
      "The mean squared error of the model (MSE):  15506.325531192253\n",
      "Error value of the model (RMSE):  124.52439733318228\n"
     ]
    }
   ],
   "source": [
    "# independent variable: hour, dependent variable: usage\n",
    "\n",
    "for i in range(10):\n",
    "    mun_id = train.loc[train['municipality_id'] == str(i)]\n",
    "    X = mun_id[[\"hour\"]]\n",
    "    X = sm.add_constant(X) # coefficient\n",
    "    y = mun_id[\"usage\"]\n",
    "\n",
    "    # model nesnesinin olusturulması ve fit edilmesi\n",
    "    lm = sm.OLS(y, X)\n",
    "    model = lm.fit()\n",
    "    \n",
    "    # hata degerleri\n",
    "    mse = np.mean((y - model.fittedvalues) ** 2) # MSE\n",
    "    rmse = np.sqrt(mse) # RMSE\n",
    "    rscore = model.rsquared # r-squared\n",
    "    pvalue = model.f_pvalue # p-value\n",
    "\n",
    "    print(f\"\\n ******************* For Municipality Id: {i} ******************* \")\n",
    "    print(\"Significance of the model (significant if p-value < 0.05): \", pvalue)\n",
    "    print(\"Success percentage of the model (r-squared): \", rscore * 100)\n",
    "    print(\"The mean squared error of the model (MSE): \", mse)\n",
    "    print(\"Error value of the model (RMSE): \", rmse)\n"
   ]
  },
  {
   "cell_type": "code",
   "execution_count": 25,
   "metadata": {},
   "outputs": [
    {
     "name": "stdout",
     "output_type": "stream",
     "text": [
      "                            OLS Regression Results                            \n",
      "==============================================================================\n",
      "Dep. Variable:                  usage   R-squared:                       0.426\n",
      "Model:                            OLS   Adj. R-squared:                  0.425\n",
      "Method:                 Least Squares   F-statistic:                     393.0\n",
      "Date:                Fri, 24 Mar 2023   Prob (F-statistic):           7.49e-66\n",
      "Time:                        02:06:51   Log-Likelihood:                -3321.5\n",
      "No. Observations:                 532   AIC:                             6647.\n",
      "Df Residuals:                     530   BIC:                             6656.\n",
      "Df Model:                           1                                         \n",
      "Covariance Type:            nonrobust                                         \n",
      "==============================================================================\n",
      "                 coef    std err          t      P>|t|      [0.025      0.975]\n",
      "------------------------------------------------------------------------------\n",
      "const        201.2910     24.293      8.286      0.000     153.569     249.013\n",
      "hour          39.7175      2.003     19.825      0.000      35.782      43.653\n",
      "==============================================================================\n",
      "Omnibus:                        0.243   Durbin-Watson:                   0.448\n",
      "Prob(Omnibus):                  0.885   Jarque-Bera (JB):                0.242\n",
      "Skew:                           0.051   Prob(JB):                        0.886\n",
      "Kurtosis:                       2.981   Cond. No.                         54.8\n",
      "==============================================================================\n",
      "\n",
      "Notes:\n",
      "[1] Standard Errors assume that the covariance matrix of the errors is correctly specified.\n"
     ]
    }
   ],
   "source": [
    "print(model.summary()) # model summary for last one (mun_id = 9)"
   ]
  },
  {
   "cell_type": "code",
   "execution_count": 26,
   "metadata": {},
   "outputs": [
    {
     "data": {
      "text/html": [
       "<table class=\"simpletable\">\n",
       "<tr>\n",
       "    <td></td>       <th>coef</th>     <th>std err</th>      <th>t</th>      <th>P>|t|</th>  <th>[0.025</th>    <th>0.975]</th>  \n",
       "</tr>\n",
       "<tr>\n",
       "  <th>const</th> <td>  201.2910</td> <td>   24.293</td> <td>    8.286</td> <td> 0.000</td> <td>  153.569</td> <td>  249.013</td>\n",
       "</tr>\n",
       "<tr>\n",
       "  <th>hour</th>  <td>   39.7175</td> <td>    2.003</td> <td>   19.825</td> <td> 0.000</td> <td>   35.782</td> <td>   43.653</td>\n",
       "</tr>\n",
       "</table>"
      ],
      "text/plain": [
       "<class 'statsmodels.iolib.table.SimpleTable'>"
      ]
     },
     "execution_count": 26,
     "metadata": {},
     "output_type": "execute_result"
    }
   ],
   "source": [
    "model.summary().tables[1]"
   ]
  },
  {
   "cell_type": "code",
   "execution_count": 27,
   "metadata": {},
   "outputs": [
    {
     "data": {
      "text/html": [
       "<div>\n",
       "<style scoped>\n",
       "    .dataframe tbody tr th:only-of-type {\n",
       "        vertical-align: middle;\n",
       "    }\n",
       "\n",
       "    .dataframe tbody tr th {\n",
       "        vertical-align: top;\n",
       "    }\n",
       "\n",
       "    .dataframe thead th {\n",
       "        text-align: right;\n",
       "    }\n",
       "</style>\n",
       "<table border=\"1\" class=\"dataframe\">\n",
       "  <thead>\n",
       "    <tr style=\"text-align: right;\">\n",
       "      <th></th>\n",
       "      <th>const</th>\n",
       "      <th>hour</th>\n",
       "    </tr>\n",
       "  </thead>\n",
       "  <tbody>\n",
       "    <tr>\n",
       "      <th>6598</th>\n",
       "      <td>1.0</td>\n",
       "      <td>8</td>\n",
       "    </tr>\n",
       "    <tr>\n",
       "      <th>6599</th>\n",
       "      <td>1.0</td>\n",
       "      <td>9</td>\n",
       "    </tr>\n",
       "    <tr>\n",
       "      <th>6600</th>\n",
       "      <td>1.0</td>\n",
       "      <td>10</td>\n",
       "    </tr>\n",
       "    <tr>\n",
       "      <th>6601</th>\n",
       "      <td>1.0</td>\n",
       "      <td>11</td>\n",
       "    </tr>\n",
       "    <tr>\n",
       "      <th>6602</th>\n",
       "      <td>1.0</td>\n",
       "      <td>12</td>\n",
       "    </tr>\n",
       "  </tbody>\n",
       "</table>\n",
       "</div>"
      ],
      "text/plain": [
       "      const  hour\n",
       "6598    1.0     8\n",
       "6599    1.0     9\n",
       "6600    1.0    10\n",
       "6601    1.0    11\n",
       "6602    1.0    12"
      ]
     },
     "execution_count": 27,
     "metadata": {},
     "output_type": "execute_result"
    }
   ],
   "source": [
    "# forecasting for municipality_id 9\n",
    "mun_id_pred = test.loc[test['municipality_id'] == str(9)]\n",
    "pred_9 = mun_id_pred['hour']\n",
    "pred_9 = sm.add_constant(pred_9)\n",
    "\n",
    "pred_9.head()"
   ]
  },
  {
   "cell_type": "code",
   "execution_count": 28,
   "metadata": {},
   "outputs": [
    {
     "data": {
      "text/plain": [
       "6598    519.030778\n",
       "6599    558.748253\n",
       "6600    598.465727\n",
       "6601    638.183202\n",
       "6602    677.900677\n",
       "6603    717.618152\n",
       "6604    757.335626\n",
       "6605    797.053101\n",
       "6606    836.770576\n",
       "6607    479.313303\n",
       "dtype: float64"
      ]
     },
     "execution_count": 28,
     "metadata": {},
     "output_type": "execute_result"
    }
   ],
   "source": [
    "model.predict(pred_9)[0:10]"
   ]
  },
  {
   "cell_type": "code",
   "execution_count": 29,
   "metadata": {},
   "outputs": [
    {
     "name": "stderr",
     "output_type": "stream",
     "text": [
      "<ipython-input-29-379fe8615e9c>:2: SettingWithCopyWarning: \n",
      "A value is trying to be set on a copy of a slice from a DataFrame.\n",
      "Try using .loc[row_indexer,col_indexer] = value instead\n",
      "\n",
      "See the caveats in the documentation: https://pandas.pydata.org/pandas-docs/stable/user_guide/indexing.html#returning-a-view-versus-a-copy\n",
      "  mun_id_9['forecasting_usage'] = model.predict(pred_9).values.astype(int)\n"
     ]
    },
    {
     "data": {
      "text/html": [
       "<div>\n",
       "<style scoped>\n",
       "    .dataframe tbody tr th:only-of-type {\n",
       "        vertical-align: middle;\n",
       "    }\n",
       "\n",
       "    .dataframe tbody tr th {\n",
       "        vertical-align: top;\n",
       "    }\n",
       "\n",
       "    .dataframe thead th {\n",
       "        text-align: right;\n",
       "    }\n",
       "</style>\n",
       "<table border=\"1\" class=\"dataframe\">\n",
       "  <thead>\n",
       "    <tr style=\"text-align: right;\">\n",
       "      <th></th>\n",
       "      <th>municipality_id</th>\n",
       "      <th>date</th>\n",
       "      <th>hour</th>\n",
       "      <th>usage</th>\n",
       "      <th>forecasting_usage</th>\n",
       "    </tr>\n",
       "  </thead>\n",
       "  <tbody>\n",
       "    <tr>\n",
       "      <th>6598</th>\n",
       "      <td>9</td>\n",
       "      <td>2017-08-05</td>\n",
       "      <td>8</td>\n",
       "      <td>333</td>\n",
       "      <td>519</td>\n",
       "    </tr>\n",
       "    <tr>\n",
       "      <th>6599</th>\n",
       "      <td>9</td>\n",
       "      <td>2017-08-05</td>\n",
       "      <td>9</td>\n",
       "      <td>424</td>\n",
       "      <td>558</td>\n",
       "    </tr>\n",
       "    <tr>\n",
       "      <th>6600</th>\n",
       "      <td>9</td>\n",
       "      <td>2017-08-05</td>\n",
       "      <td>10</td>\n",
       "      <td>564</td>\n",
       "      <td>598</td>\n",
       "    </tr>\n",
       "    <tr>\n",
       "      <th>6601</th>\n",
       "      <td>9</td>\n",
       "      <td>2017-08-05</td>\n",
       "      <td>11</td>\n",
       "      <td>761</td>\n",
       "      <td>638</td>\n",
       "    </tr>\n",
       "    <tr>\n",
       "      <th>6602</th>\n",
       "      <td>9</td>\n",
       "      <td>2017-08-05</td>\n",
       "      <td>12</td>\n",
       "      <td>799</td>\n",
       "      <td>677</td>\n",
       "    </tr>\n",
       "    <tr>\n",
       "      <th>6603</th>\n",
       "      <td>9</td>\n",
       "      <td>2017-08-05</td>\n",
       "      <td>13</td>\n",
       "      <td>826</td>\n",
       "      <td>717</td>\n",
       "    </tr>\n",
       "    <tr>\n",
       "      <th>6604</th>\n",
       "      <td>9</td>\n",
       "      <td>2017-08-05</td>\n",
       "      <td>14</td>\n",
       "      <td>803</td>\n",
       "      <td>757</td>\n",
       "    </tr>\n",
       "    <tr>\n",
       "      <th>6605</th>\n",
       "      <td>9</td>\n",
       "      <td>2017-08-05</td>\n",
       "      <td>15</td>\n",
       "      <td>711</td>\n",
       "      <td>797</td>\n",
       "    </tr>\n",
       "    <tr>\n",
       "      <th>6606</th>\n",
       "      <td>9</td>\n",
       "      <td>2017-08-05</td>\n",
       "      <td>16</td>\n",
       "      <td>620</td>\n",
       "      <td>836</td>\n",
       "    </tr>\n",
       "    <tr>\n",
       "      <th>6607</th>\n",
       "      <td>9</td>\n",
       "      <td>2017-08-06</td>\n",
       "      <td>7</td>\n",
       "      <td>386</td>\n",
       "      <td>479</td>\n",
       "    </tr>\n",
       "  </tbody>\n",
       "</table>\n",
       "</div>"
      ],
      "text/plain": [
       "     municipality_id       date  hour  usage  forecasting_usage\n",
       "6598               9 2017-08-05     8    333                519\n",
       "6599               9 2017-08-05     9    424                558\n",
       "6600               9 2017-08-05    10    564                598\n",
       "6601               9 2017-08-05    11    761                638\n",
       "6602               9 2017-08-05    12    799                677\n",
       "6603               9 2017-08-05    13    826                717\n",
       "6604               9 2017-08-05    14    803                757\n",
       "6605               9 2017-08-05    15    711                797\n",
       "6606               9 2017-08-05    16    620                836\n",
       "6607               9 2017-08-06     7    386                479"
      ]
     },
     "execution_count": 29,
     "metadata": {},
     "output_type": "execute_result"
    }
   ],
   "source": [
    "mun_id_9 = test.loc[test['municipality_id'] == str(9)]\n",
    "mun_id_9['forecasting_usage'] = model.predict(pred_9).values.astype(int)\n",
    "\n",
    "mun_id_9.head(10)"
   ]
  },
  {
   "cell_type": "code",
   "execution_count": null,
   "metadata": {},
   "outputs": [],
   "source": []
  },
  {
   "cell_type": "code",
   "execution_count": null,
   "metadata": {},
   "outputs": [],
   "source": []
  }
 ],
 "metadata": {
  "kernelspec": {
   "display_name": "Python 3",
   "language": "python",
   "name": "python3"
  },
  "language_info": {
   "codemirror_mode": {
    "name": "ipython",
    "version": 3
   },
   "file_extension": ".py",
   "mimetype": "text/x-python",
   "name": "python",
   "nbconvert_exporter": "python",
   "pygments_lexer": "ipython3",
   "version": "3.8.5"
  }
 },
 "nbformat": 4,
 "nbformat_minor": 4
}
