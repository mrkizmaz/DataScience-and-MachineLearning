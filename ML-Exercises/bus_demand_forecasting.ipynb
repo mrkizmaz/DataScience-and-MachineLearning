{
 "cells": [
  {
   "cell_type": "markdown",
   "metadata": {},
   "source": [
    "**TASK**: Forecasting bus demand in Banana Republic municipalities."
   ]
  },
  {
   "cell_type": "code",
   "execution_count": 2,
   "metadata": {},
   "outputs": [
    {
     "data": {
      "text/html": [
       "<div>\n",
       "<style scoped>\n",
       "    .dataframe tbody tr th:only-of-type {\n",
       "        vertical-align: middle;\n",
       "    }\n",
       "\n",
       "    .dataframe tbody tr th {\n",
       "        vertical-align: top;\n",
       "    }\n",
       "\n",
       "    .dataframe thead th {\n",
       "        text-align: right;\n",
       "    }\n",
       "</style>\n",
       "<table border=\"1\" class=\"dataframe\">\n",
       "  <thead>\n",
       "    <tr style=\"text-align: right;\">\n",
       "      <th></th>\n",
       "      <th>TIMESTAMP</th>\n",
       "      <th>MUNICIPALITY_ID</th>\n",
       "      <th>USAGE</th>\n",
       "      <th>TOTAL_CAPACITY</th>\n",
       "    </tr>\n",
       "  </thead>\n",
       "  <tbody>\n",
       "    <tr>\n",
       "      <th>0</th>\n",
       "      <td>timestamp</td>\n",
       "      <td>municipality_id</td>\n",
       "      <td>usage</td>\n",
       "      <td>total_capacity</td>\n",
       "    </tr>\n",
       "    <tr>\n",
       "      <th>1</th>\n",
       "      <td>2017-06-04 07:59:42</td>\n",
       "      <td>9</td>\n",
       "      <td>454</td>\n",
       "      <td>1332</td>\n",
       "    </tr>\n",
       "    <tr>\n",
       "      <th>2</th>\n",
       "      <td>2017-06-04 07:59:42</td>\n",
       "      <td>8</td>\n",
       "      <td>556</td>\n",
       "      <td>2947</td>\n",
       "    </tr>\n",
       "    <tr>\n",
       "      <th>3</th>\n",
       "      <td>2017-06-04 07:59:42</td>\n",
       "      <td>4</td>\n",
       "      <td>1090</td>\n",
       "      <td>3893</td>\n",
       "    </tr>\n",
       "    <tr>\n",
       "      <th>4</th>\n",
       "      <td>2017-06-04 07:59:42</td>\n",
       "      <td>0</td>\n",
       "      <td>204</td>\n",
       "      <td>2813</td>\n",
       "    </tr>\n",
       "    <tr>\n",
       "      <th>5</th>\n",
       "      <td>2017-06-04 07:59:42</td>\n",
       "      <td>7</td>\n",
       "      <td>718</td>\n",
       "      <td>2019</td>\n",
       "    </tr>\n",
       "    <tr>\n",
       "      <th>6</th>\n",
       "      <td>2017-06-04 07:59:42</td>\n",
       "      <td>5</td>\n",
       "      <td>70</td>\n",
       "      <td>587</td>\n",
       "    </tr>\n",
       "    <tr>\n",
       "      <th>7</th>\n",
       "      <td>2017-06-04 07:59:42</td>\n",
       "      <td>2</td>\n",
       "      <td>273</td>\n",
       "      <td>697</td>\n",
       "    </tr>\n",
       "    <tr>\n",
       "      <th>8</th>\n",
       "      <td>2017-06-04 07:59:42</td>\n",
       "      <td>1</td>\n",
       "      <td>129</td>\n",
       "      <td>397</td>\n",
       "    </tr>\n",
       "    <tr>\n",
       "      <th>9</th>\n",
       "      <td>2017-06-04 07:59:42</td>\n",
       "      <td>6</td>\n",
       "      <td>597</td>\n",
       "      <td>3113</td>\n",
       "    </tr>\n",
       "  </tbody>\n",
       "</table>\n",
       "</div>"
      ],
      "text/plain": [
       "             TIMESTAMP  MUNICIPALITY_ID  USAGE  TOTAL_CAPACITY\n",
       "0            timestamp  municipality_id  usage  total_capacity\n",
       "1  2017-06-04 07:59:42                9    454            1332\n",
       "2  2017-06-04 07:59:42                8    556            2947\n",
       "3  2017-06-04 07:59:42                4   1090            3893\n",
       "4  2017-06-04 07:59:42                0    204            2813\n",
       "5  2017-06-04 07:59:42                7    718            2019\n",
       "6  2017-06-04 07:59:42                5     70             587\n",
       "7  2017-06-04 07:59:42                2    273             697\n",
       "8  2017-06-04 07:59:42                1    129             397\n",
       "9  2017-06-04 07:59:42                6    597            3113"
      ]
     },
     "execution_count": 2,
     "metadata": {},
     "output_type": "execute_result"
    }
   ],
   "source": [
    "import pandas as pd\n",
    "import numpy as np\n",
    "\n",
    "# Load the dataset\n",
    "url = 'https://pi.works/3w8IJbV'\n",
    "df = pd.read_csv(url, header=None, names=[\"TIMESTAMP\", \"MUNICIPALITY_ID\", \"USAGE\", \"TOTAL_CAPACITY\"])\n",
    "\n",
    "df.head(10)"
   ]
  },
  {
   "cell_type": "code",
   "execution_count": 3,
   "metadata": {},
   "outputs": [
    {
     "data": {
      "text/html": [
       "<div>\n",
       "<style scoped>\n",
       "    .dataframe tbody tr th:only-of-type {\n",
       "        vertical-align: middle;\n",
       "    }\n",
       "\n",
       "    .dataframe tbody tr th {\n",
       "        vertical-align: top;\n",
       "    }\n",
       "\n",
       "    .dataframe thead th {\n",
       "        text-align: right;\n",
       "    }\n",
       "</style>\n",
       "<table border=\"1\" class=\"dataframe\">\n",
       "  <thead>\n",
       "    <tr style=\"text-align: right;\">\n",
       "      <th></th>\n",
       "      <th>TIMESTAMP</th>\n",
       "      <th>MUNICIPALITY_ID</th>\n",
       "      <th>USAGE</th>\n",
       "      <th>TOTAL_CAPACITY</th>\n",
       "    </tr>\n",
       "  </thead>\n",
       "  <tbody>\n",
       "    <tr>\n",
       "      <th>1</th>\n",
       "      <td>2017-06-04 07:59:42</td>\n",
       "      <td>9</td>\n",
       "      <td>454</td>\n",
       "      <td>1332</td>\n",
       "    </tr>\n",
       "    <tr>\n",
       "      <th>2</th>\n",
       "      <td>2017-06-04 07:59:42</td>\n",
       "      <td>8</td>\n",
       "      <td>556</td>\n",
       "      <td>2947</td>\n",
       "    </tr>\n",
       "    <tr>\n",
       "      <th>3</th>\n",
       "      <td>2017-06-04 07:59:42</td>\n",
       "      <td>4</td>\n",
       "      <td>1090</td>\n",
       "      <td>3893</td>\n",
       "    </tr>\n",
       "    <tr>\n",
       "      <th>4</th>\n",
       "      <td>2017-06-04 07:59:42</td>\n",
       "      <td>0</td>\n",
       "      <td>204</td>\n",
       "      <td>2813</td>\n",
       "    </tr>\n",
       "    <tr>\n",
       "      <th>5</th>\n",
       "      <td>2017-06-04 07:59:42</td>\n",
       "      <td>7</td>\n",
       "      <td>718</td>\n",
       "      <td>2019</td>\n",
       "    </tr>\n",
       "  </tbody>\n",
       "</table>\n",
       "</div>"
      ],
      "text/plain": [
       "             TIMESTAMP MUNICIPALITY_ID USAGE TOTAL_CAPACITY\n",
       "1  2017-06-04 07:59:42               9   454           1332\n",
       "2  2017-06-04 07:59:42               8   556           2947\n",
       "3  2017-06-04 07:59:42               4  1090           3893\n",
       "4  2017-06-04 07:59:42               0   204           2813\n",
       "5  2017-06-04 07:59:42               7   718           2019"
      ]
     },
     "execution_count": 3,
     "metadata": {},
     "output_type": "execute_result"
    }
   ],
   "source": [
    "df = df.iloc[1:,]\n",
    "df.head()"
   ]
  },
  {
   "cell_type": "code",
   "execution_count": 4,
   "metadata": {},
   "outputs": [
    {
     "name": "stdout",
     "output_type": "stream",
     "text": [
      "<class 'pandas.core.frame.DataFrame'>\n",
      "RangeIndex: 13070 entries, 1 to 13070\n",
      "Data columns (total 4 columns):\n",
      " #   Column           Non-Null Count  Dtype \n",
      "---  ------           --------------  ----- \n",
      " 0   TIMESTAMP        13070 non-null  object\n",
      " 1   MUNICIPALITY_ID  13070 non-null  object\n",
      " 2   USAGE            13070 non-null  object\n",
      " 3   TOTAL_CAPACITY   13070 non-null  object\n",
      "dtypes: object(4)\n",
      "memory usage: 408.6+ KB\n"
     ]
    }
   ],
   "source": [
    "df.info() # info of dataset"
   ]
  },
  {
   "cell_type": "code",
   "execution_count": 5,
   "metadata": {},
   "outputs": [
    {
     "name": "stdout",
     "output_type": "stream",
     "text": [
      "<class 'pandas.core.frame.DataFrame'>\n",
      "RangeIndex: 13070 entries, 1 to 13070\n",
      "Data columns (total 4 columns):\n",
      " #   Column           Non-Null Count  Dtype         \n",
      "---  ------           --------------  -----         \n",
      " 0   TIMESTAMP        13070 non-null  datetime64[ns]\n",
      " 1   MUNICIPALITY_ID  13070 non-null  object        \n",
      " 2   USAGE            13070 non-null  object        \n",
      " 3   TOTAL_CAPACITY   13070 non-null  object        \n",
      "dtypes: datetime64[ns](1), object(3)\n",
      "memory usage: 408.6+ KB\n"
     ]
    }
   ],
   "source": [
    "# Convert TIMESTAMP column to a datetime object\n",
    "df[\"TIMESTAMP\"] = pd.to_datetime(df[\"TIMESTAMP\"])\n",
    "df.info()"
   ]
  },
  {
   "cell_type": "code",
   "execution_count": 6,
   "metadata": {},
   "outputs": [
    {
     "data": {
      "text/plain": [
       "False"
      ]
     },
     "execution_count": 6,
     "metadata": {},
     "output_type": "execute_result"
    }
   ],
   "source": [
    "df.isnull().values.any() # any discrete or empty values in the dataset?"
   ]
  },
  {
   "cell_type": "code",
   "execution_count": 30,
   "metadata": {},
   "outputs": [],
   "source": [
    "# Split the dataset into training and test sets\n",
    "train = df[df['TIMESTAMP'] < '2017-08-05']\n",
    "test = df[df['TIMESTAMP'] >= '2017-08-05']"
   ]
  },
  {
   "cell_type": "code",
   "execution_count": 31,
   "metadata": {},
   "outputs": [
    {
     "data": {
      "text/plain": [
       "(2680, 4)"
      ]
     },
     "execution_count": 31,
     "metadata": {},
     "output_type": "execute_result"
    }
   ],
   "source": [
    "test.shape"
   ]
  },
  {
   "cell_type": "code",
   "execution_count": 32,
   "metadata": {},
   "outputs": [
    {
     "data": {
      "text/plain": [
       "(10390, 4)"
      ]
     },
     "execution_count": 32,
     "metadata": {},
     "output_type": "execute_result"
    }
   ],
   "source": [
    "train.shape"
   ]
  },
  {
   "cell_type": "code",
   "execution_count": null,
   "metadata": {},
   "outputs": [],
   "source": []
  },
  {
   "cell_type": "code",
   "execution_count": null,
   "metadata": {},
   "outputs": [],
   "source": []
  },
  {
   "cell_type": "code",
   "execution_count": null,
   "metadata": {},
   "outputs": [],
   "source": []
  },
  {
   "cell_type": "code",
   "execution_count": null,
   "metadata": {},
   "outputs": [],
   "source": []
  },
  {
   "cell_type": "code",
   "execution_count": null,
   "metadata": {},
   "outputs": [],
   "source": []
  }
 ],
 "metadata": {
  "kernelspec": {
   "display_name": "Python 3",
   "language": "python",
   "name": "python3"
  },
  "language_info": {
   "codemirror_mode": {
    "name": "ipython",
    "version": 3
   },
   "file_extension": ".py",
   "mimetype": "text/x-python",
   "name": "python",
   "nbconvert_exporter": "python",
   "pygments_lexer": "ipython3",
   "version": "3.8.5"
  }
 },
 "nbformat": 4,
 "nbformat_minor": 4
}
