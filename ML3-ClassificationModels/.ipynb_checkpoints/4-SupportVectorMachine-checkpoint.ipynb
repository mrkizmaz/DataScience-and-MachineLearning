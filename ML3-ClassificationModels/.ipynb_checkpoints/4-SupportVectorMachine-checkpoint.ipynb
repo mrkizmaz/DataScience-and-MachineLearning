{
 "cells": [
  {
   "cell_type": "markdown",
   "metadata": {},
   "source": [
    "# 4- Destek Vektör Makineleri (Support Vector Machines)"
   ]
  },
  {
   "cell_type": "markdown",
   "metadata": {},
   "source": [
    "## TEORİ"
   ]
  },
  {
   "cell_type": "markdown",
   "metadata": {},
   "source": [
    "**Amaç, iki sınıf arasındaki ayrımın optimum olmasını sağlayacak hiper-düzlemi bulmaktır.**"
   ]
  },
  {
   "cell_type": "markdown",
   "metadata": {},
   "source": [
    "## UYGULAMA"
   ]
  },
  {
   "cell_type": "markdown",
   "metadata": {},
   "source": [
    "### Verisetinin İncelenmesi ve Manipüle Edilmesi"
   ]
  },
  {
   "cell_type": "markdown",
   "metadata": {},
   "source": [
    "* Kullanılan kütüphanelerin dahil edilmesi"
   ]
  },
  {
   "cell_type": "code",
   "execution_count": 16,
   "metadata": {},
   "outputs": [],
   "source": [
    "import numpy as np\n",
    "import pandas as pd \n",
    "import seaborn as sns\n",
    "import matplotlib.pyplot as plt\n",
    "from sklearn.model_selection import train_test_split, cross_val_score\n",
    "from sklearn.metrics import roc_auc_score,roc_curve\n",
    "from sklearn.metrics import confusion_matrix, accuracy_score, classification_report\n",
    "from sklearn.svm import SVC\n",
    "from sklearn.model_selection import GridSearchCV\n",
    "\n",
    "from warnings import filterwarnings\n",
    "filterwarnings('ignore', category = UserWarning)"
   ]
  },
  {
   "cell_type": "markdown",
   "metadata": {},
   "source": [
    "* Verisetini [buradan](https://mrkizmaz-s3data.s3.eu-west-1.amazonaws.com/DataSets/diabetes.csv) indirebilirsiniz."
   ]
  },
  {
   "cell_type": "code",
   "execution_count": 2,
   "metadata": {},
   "outputs": [
    {
     "data": {
      "text/html": [
       "<div>\n",
       "<style scoped>\n",
       "    .dataframe tbody tr th:only-of-type {\n",
       "        vertical-align: middle;\n",
       "    }\n",
       "\n",
       "    .dataframe tbody tr th {\n",
       "        vertical-align: top;\n",
       "    }\n",
       "\n",
       "    .dataframe thead th {\n",
       "        text-align: right;\n",
       "    }\n",
       "</style>\n",
       "<table border=\"1\" class=\"dataframe\">\n",
       "  <thead>\n",
       "    <tr style=\"text-align: right;\">\n",
       "      <th></th>\n",
       "      <th>Pregnancies</th>\n",
       "      <th>Glucose</th>\n",
       "      <th>BloodPressure</th>\n",
       "      <th>SkinThickness</th>\n",
       "      <th>Insulin</th>\n",
       "      <th>BMI</th>\n",
       "      <th>DiabetesPedigreeFunction</th>\n",
       "      <th>Age</th>\n",
       "      <th>Outcome</th>\n",
       "    </tr>\n",
       "  </thead>\n",
       "  <tbody>\n",
       "    <tr>\n",
       "      <th>0</th>\n",
       "      <td>6</td>\n",
       "      <td>148</td>\n",
       "      <td>72</td>\n",
       "      <td>35</td>\n",
       "      <td>0</td>\n",
       "      <td>33.6</td>\n",
       "      <td>0.627</td>\n",
       "      <td>50</td>\n",
       "      <td>1</td>\n",
       "    </tr>\n",
       "    <tr>\n",
       "      <th>1</th>\n",
       "      <td>1</td>\n",
       "      <td>85</td>\n",
       "      <td>66</td>\n",
       "      <td>29</td>\n",
       "      <td>0</td>\n",
       "      <td>26.6</td>\n",
       "      <td>0.351</td>\n",
       "      <td>31</td>\n",
       "      <td>0</td>\n",
       "    </tr>\n",
       "    <tr>\n",
       "      <th>2</th>\n",
       "      <td>8</td>\n",
       "      <td>183</td>\n",
       "      <td>64</td>\n",
       "      <td>0</td>\n",
       "      <td>0</td>\n",
       "      <td>23.3</td>\n",
       "      <td>0.672</td>\n",
       "      <td>32</td>\n",
       "      <td>1</td>\n",
       "    </tr>\n",
       "    <tr>\n",
       "      <th>3</th>\n",
       "      <td>1</td>\n",
       "      <td>89</td>\n",
       "      <td>66</td>\n",
       "      <td>23</td>\n",
       "      <td>94</td>\n",
       "      <td>28.1</td>\n",
       "      <td>0.167</td>\n",
       "      <td>21</td>\n",
       "      <td>0</td>\n",
       "    </tr>\n",
       "    <tr>\n",
       "      <th>4</th>\n",
       "      <td>0</td>\n",
       "      <td>137</td>\n",
       "      <td>40</td>\n",
       "      <td>35</td>\n",
       "      <td>168</td>\n",
       "      <td>43.1</td>\n",
       "      <td>2.288</td>\n",
       "      <td>33</td>\n",
       "      <td>1</td>\n",
       "    </tr>\n",
       "  </tbody>\n",
       "</table>\n",
       "</div>"
      ],
      "text/plain": [
       "   Pregnancies  Glucose  BloodPressure  SkinThickness  Insulin   BMI  \\\n",
       "0            6      148             72             35        0  33.6   \n",
       "1            1       85             66             29        0  26.6   \n",
       "2            8      183             64              0        0  23.3   \n",
       "3            1       89             66             23       94  28.1   \n",
       "4            0      137             40             35      168  43.1   \n",
       "\n",
       "   DiabetesPedigreeFunction  Age  Outcome  \n",
       "0                     0.627   50        1  \n",
       "1                     0.351   31        0  \n",
       "2                     0.672   32        1  \n",
       "3                     0.167   21        0  \n",
       "4                     2.288   33        1  "
      ]
     },
     "execution_count": 2,
     "metadata": {},
     "output_type": "execute_result"
    }
   ],
   "source": [
    "url = \"https://mrkizmaz-s3data.s3.eu-west-1.amazonaws.com/DataSets/diabetes.csv\"\n",
    "diabetes = pd.read_csv(url)\n",
    "df = diabetes.copy()\n",
    "df.head()"
   ]
  },
  {
   "cell_type": "code",
   "execution_count": 3,
   "metadata": {},
   "outputs": [
    {
     "name": "stdout",
     "output_type": "stream",
     "text": [
      "<class 'pandas.core.frame.DataFrame'>\n",
      "RangeIndex: 768 entries, 0 to 767\n",
      "Data columns (total 9 columns):\n",
      " #   Column                    Non-Null Count  Dtype  \n",
      "---  ------                    --------------  -----  \n",
      " 0   Pregnancies               768 non-null    int64  \n",
      " 1   Glucose                   768 non-null    int64  \n",
      " 2   BloodPressure             768 non-null    int64  \n",
      " 3   SkinThickness             768 non-null    int64  \n",
      " 4   Insulin                   768 non-null    int64  \n",
      " 5   BMI                       768 non-null    float64\n",
      " 6   DiabetesPedigreeFunction  768 non-null    float64\n",
      " 7   Age                       768 non-null    int64  \n",
      " 8   Outcome                   768 non-null    int64  \n",
      "dtypes: float64(2), int64(7)\n",
      "memory usage: 54.1 KB\n"
     ]
    }
   ],
   "source": [
    "df.info() # veriseti bilgisi"
   ]
  },
  {
   "cell_type": "code",
   "execution_count": 4,
   "metadata": {},
   "outputs": [
    {
     "data": {
      "text/plain": [
       "False"
      ]
     },
     "execution_count": 4,
     "metadata": {},
     "output_type": "execute_result"
    }
   ],
   "source": [
    "df.isnull().values.any() # verisetinde bos veya eksik degerler var mı?"
   ]
  },
  {
   "cell_type": "code",
   "execution_count": 5,
   "metadata": {},
   "outputs": [
    {
     "data": {
      "text/plain": [
       "0    500\n",
       "1    268\n",
       "Name: Outcome, dtype: int64"
      ]
     },
     "execution_count": 5,
     "metadata": {},
     "output_type": "execute_result"
    }
   ],
   "source": [
    "df['Outcome'].value_counts() # outcome degerlerinin durumu"
   ]
  },
  {
   "cell_type": "code",
   "execution_count": 7,
   "metadata": {},
   "outputs": [
    {
     "name": "stderr",
     "output_type": "stream",
     "text": [
      "/home/mrkizmaz/.local/lib/python3.8/site-packages/seaborn/_decorators.py:36: FutureWarning: Pass the following variable as a keyword arg: x. From version 0.12, the only valid positional argument will be `data`, and passing other arguments without an explicit keyword will result in an error or misinterpretation.\n",
      "  warnings.warn(\n"
     ]
    },
    {
     "data": {
      "image/png": "[encoded data removed]",
      "text/plain": [
       "<Figure size 432x288 with 1 Axes>"
      ]
     },
     "metadata": {
      "needs_background": "light"
     },
     "output_type": "display_data"
    }
   ],
   "source": [
    "sns.countplot(df['Outcome']);"
   ]
  },
  {
   "cell_type": "code",
   "execution_count": 9,
   "metadata": {},
   "outputs": [
    {
     "data": {
      "text/html": [
       "<div>\n",
       "<style scoped>\n",
       "    .dataframe tbody tr th:only-of-type {\n",
       "        vertical-align: middle;\n",
       "    }\n",
       "\n",
       "    .dataframe tbody tr th {\n",
       "        vertical-align: top;\n",
       "    }\n",
       "\n",
       "    .dataframe thead th {\n",
       "        text-align: right;\n",
       "    }\n",
       "</style>\n",
       "<table border=\"1\" class=\"dataframe\">\n",
       "  <thead>\n",
       "    <tr style=\"text-align: right;\">\n",
       "      <th></th>\n",
       "      <th>count</th>\n",
       "      <th>mean</th>\n",
       "      <th>std</th>\n",
       "      <th>min</th>\n",
       "      <th>25%</th>\n",
       "      <th>50%</th>\n",
       "      <th>75%</th>\n",
       "      <th>max</th>\n",
       "    </tr>\n",
       "  </thead>\n",
       "  <tbody>\n",
       "    <tr>\n",
       "      <th>Pregnancies</th>\n",
       "      <td>768.0</td>\n",
       "      <td>3.845052</td>\n",
       "      <td>3.369578</td>\n",
       "      <td>0.000</td>\n",
       "      <td>1.00000</td>\n",
       "      <td>3.0000</td>\n",
       "      <td>6.00000</td>\n",
       "      <td>17.00</td>\n",
       "    </tr>\n",
       "    <tr>\n",
       "      <th>Glucose</th>\n",
       "      <td>768.0</td>\n",
       "      <td>120.894531</td>\n",
       "      <td>31.972618</td>\n",
       "      <td>0.000</td>\n",
       "      <td>99.00000</td>\n",
       "      <td>117.0000</td>\n",
       "      <td>140.25000</td>\n",
       "      <td>199.00</td>\n",
       "    </tr>\n",
       "    <tr>\n",
       "      <th>BloodPressure</th>\n",
       "      <td>768.0</td>\n",
       "      <td>69.105469</td>\n",
       "      <td>19.355807</td>\n",
       "      <td>0.000</td>\n",
       "      <td>62.00000</td>\n",
       "      <td>72.0000</td>\n",
       "      <td>80.00000</td>\n",
       "      <td>122.00</td>\n",
       "    </tr>\n",
       "    <tr>\n",
       "      <th>SkinThickness</th>\n",
       "      <td>768.0</td>\n",
       "      <td>20.536458</td>\n",
       "      <td>15.952218</td>\n",
       "      <td>0.000</td>\n",
       "      <td>0.00000</td>\n",
       "      <td>23.0000</td>\n",
       "      <td>32.00000</td>\n",
       "      <td>99.00</td>\n",
       "    </tr>\n",
       "    <tr>\n",
       "      <th>Insulin</th>\n",
       "      <td>768.0</td>\n",
       "      <td>79.799479</td>\n",
       "      <td>115.244002</td>\n",
       "      <td>0.000</td>\n",
       "      <td>0.00000</td>\n",
       "      <td>30.5000</td>\n",
       "      <td>127.25000</td>\n",
       "      <td>846.00</td>\n",
       "    </tr>\n",
       "    <tr>\n",
       "      <th>BMI</th>\n",
       "      <td>768.0</td>\n",
       "      <td>31.992578</td>\n",
       "      <td>7.884160</td>\n",
       "      <td>0.000</td>\n",
       "      <td>27.30000</td>\n",
       "      <td>32.0000</td>\n",
       "      <td>36.60000</td>\n",
       "      <td>67.10</td>\n",
       "    </tr>\n",
       "    <tr>\n",
       "      <th>DiabetesPedigreeFunction</th>\n",
       "      <td>768.0</td>\n",
       "      <td>0.471876</td>\n",
       "      <td>0.331329</td>\n",
       "      <td>0.078</td>\n",
       "      <td>0.24375</td>\n",
       "      <td>0.3725</td>\n",
       "      <td>0.62625</td>\n",
       "      <td>2.42</td>\n",
       "    </tr>\n",
       "    <tr>\n",
       "      <th>Age</th>\n",
       "      <td>768.0</td>\n",
       "      <td>33.240885</td>\n",
       "      <td>11.760232</td>\n",
       "      <td>21.000</td>\n",
       "      <td>24.00000</td>\n",
       "      <td>29.0000</td>\n",
       "      <td>41.00000</td>\n",
       "      <td>81.00</td>\n",
       "    </tr>\n",
       "    <tr>\n",
       "      <th>Outcome</th>\n",
       "      <td>768.0</td>\n",
       "      <td>0.348958</td>\n",
       "      <td>0.476951</td>\n",
       "      <td>0.000</td>\n",
       "      <td>0.00000</td>\n",
       "      <td>0.0000</td>\n",
       "      <td>1.00000</td>\n",
       "      <td>1.00</td>\n",
       "    </tr>\n",
       "  </tbody>\n",
       "</table>\n",
       "</div>"
      ],
      "text/plain": [
       "                          count        mean         std     min       25%  \\\n",
       "Pregnancies               768.0    3.845052    3.369578   0.000   1.00000   \n",
       "Glucose                   768.0  120.894531   31.972618   0.000  99.00000   \n",
       "BloodPressure             768.0   69.105469   19.355807   0.000  62.00000   \n",
       "SkinThickness             768.0   20.536458   15.952218   0.000   0.00000   \n",
       "Insulin                   768.0   79.799479  115.244002   0.000   0.00000   \n",
       "BMI                       768.0   31.992578    7.884160   0.000  27.30000   \n",
       "DiabetesPedigreeFunction  768.0    0.471876    0.331329   0.078   0.24375   \n",
       "Age                       768.0   33.240885   11.760232  21.000  24.00000   \n",
       "Outcome                   768.0    0.348958    0.476951   0.000   0.00000   \n",
       "\n",
       "                               50%        75%     max  \n",
       "Pregnancies                 3.0000    6.00000   17.00  \n",
       "Glucose                   117.0000  140.25000  199.00  \n",
       "BloodPressure              72.0000   80.00000  122.00  \n",
       "SkinThickness              23.0000   32.00000   99.00  \n",
       "Insulin                    30.5000  127.25000  846.00  \n",
       "BMI                        32.0000   36.60000   67.10  \n",
       "DiabetesPedigreeFunction    0.3725    0.62625    2.42  \n",
       "Age                        29.0000   41.00000   81.00  \n",
       "Outcome                     0.0000    1.00000    1.00  "
      ]
     },
     "execution_count": 9,
     "metadata": {},
     "output_type": "execute_result"
    }
   ],
   "source": [
    "df.describe().T # verisetinin istatiksel bilgileri"
   ]
  },
  {
   "cell_type": "markdown",
   "metadata": {},
   "source": [
    "### Model Kurulumu ve Tahminleme (Doğrusal SVC)"
   ]
  },
  {
   "cell_type": "code",
   "execution_count": 10,
   "metadata": {},
   "outputs": [
    {
     "data": {
      "text/plain": [
       "SVC(kernel='linear')"
      ]
     },
     "execution_count": 10,
     "metadata": {},
     "output_type": "execute_result"
    }
   ],
   "source": [
    "X = df.drop(['Outcome'], axis = 1) # outcome dısındaki bagımsız degiskenler\n",
    "y = df['Outcome'] # bagımlı degisken\n",
    "\n",
    "# %20'i test, %80'i egitim seti\n",
    "X_train, X_test, y_train, y_test = train_test_split(X,\n",
    "                                                    y,\n",
    "                                                    test_size = 0.2,\n",
    "                                                    random_state = 42)\n",
    "# model kurulumu\n",
    "svc = SVC(kernel = 'linear').fit(X_train, y_train)\n",
    "svc"
   ]
  },
  {
   "cell_type": "code",
   "execution_count": 11,
   "metadata": {},
   "outputs": [
    {
     "data": {
      "text/plain": [
       "0.7736156351791531"
      ]
     },
     "execution_count": 11,
     "metadata": {},
     "output_type": "execute_result"
    }
   ],
   "source": [
    "svc.score(X_train, y_train) # modelin anlamlılık degeri"
   ]
  },
  {
   "cell_type": "code",
   "execution_count": 14,
   "metadata": {},
   "outputs": [
    {
     "data": {
      "text/plain": [
       "0.7532467532467533"
      ]
     },
     "execution_count": 14,
     "metadata": {},
     "output_type": "execute_result"
    }
   ],
   "source": [
    "# tahminleme\n",
    "y_pred = svc.predict(X_test)\n",
    "skor = accuracy_score(y_test, y_pred)\n",
    "skor # modelin dogruluk skoru"
   ]
  },
  {
   "cell_type": "code",
   "execution_count": 15,
   "metadata": {},
   "outputs": [
    {
     "name": "stdout",
     "output_type": "stream",
     "text": [
      "              precision    recall  f1-score   support\n",
      "\n",
      "           0       0.81      0.81      0.81        99\n",
      "           1       0.65      0.65      0.65        55\n",
      "\n",
      "    accuracy                           0.75       154\n",
      "   macro avg       0.73      0.73      0.73       154\n",
      "weighted avg       0.75      0.75      0.75       154\n",
      "\n"
     ]
    }
   ],
   "source": [
    "print(classification_report(y_test, y_pred)) # sınıflandırma raporu"
   ]
  },
  {
   "cell_type": "markdown",
   "metadata": {},
   "source": [
    "### Model Tuning"
   ]
  },
  {
   "cell_type": "code",
   "execution_count": 17,
   "metadata": {},
   "outputs": [
    {
     "name": "stdout",
     "output_type": "stream",
     "text": [
      "Fitting 10 folds for each of 9 candidates, totalling 90 fits\n",
      "[CV] END ................................................C=1; total time=   5.5s\n",
      "[CV] END ................................................C=1; total time=   6.4s\n",
      "[CV] END ................................................C=1; total time=   6.5s\n",
      "[CV] END ................................................C=1; total time=   6.9s\n",
      "[CV] END ................................................C=1; total time=   8.0s\n",
      "[CV] END ................................................C=1; total time=   9.3s\n",
      "[CV] END ................................................C=1; total time=  10.9s\n",
      "[CV] END ................................................C=1; total time=   6.8s\n",
      "[CV] END ................................................C=1; total time=   7.2s\n",
      "[CV] END ................................................C=1; total time=  13.8s\n",
      "[CV] END ................................................C=2; total time=  11.0s\n",
      "[CV] END ................................................C=2; total time=  11.4s\n",
      "[CV] END ................................................C=2; total time=  12.3s\n",
      "[CV] END ................................................C=2; total time=  10.5s\n",
      "[CV] END ................................................C=2; total time=  18.0s\n",
      "[CV] END ................................................C=2; total time=  20.0s\n",
      "[CV] END ................................................C=2; total time=  13.6s\n",
      "[CV] END ................................................C=2; total time=  15.5s\n",
      "[CV] END ................................................C=2; total time=  10.4s\n",
      "[CV] END ................................................C=2; total time=  18.8s\n",
      "[CV] END ................................................C=3; total time=  16.5s\n",
      "[CV] END ................................................C=3; total time=  21.8s\n",
      "[CV] END ................................................C=3; total time=  19.2s\n",
      "[CV] END ................................................C=3; total time=  24.8s\n",
      "[CV] END ................................................C=3; total time=  14.8s\n",
      "[CV] END ................................................C=3; total time=  15.9s\n",
      "[CV] END ................................................C=3; total time=  32.9s\n",
      "[CV] END ................................................C=3; total time=  38.3s\n",
      "[CV] END ................................................C=3; total time=  21.7s\n",
      "[CV] END ................................................C=3; total time=  44.8s\n",
      "[CV] END ................................................C=4; total time=  21.1s\n",
      "[CV] END ................................................C=4; total time=  22.4s\n",
      "[CV] END ................................................C=4; total time=  21.0s\n",
      "[CV] END ................................................C=4; total time=  18.4s\n",
      "[CV] END ................................................C=4; total time=  34.3s\n",
      "[CV] END ................................................C=4; total time=  19.4s\n",
      "[CV] END ................................................C=4; total time=  34.4s\n",
      "[CV] END ................................................C=4; total time=  26.5s\n",
      "[CV] END ................................................C=4; total time=  26.0s\n",
      "[CV] END ................................................C=4; total time= 1.1min\n",
      "[CV] END ................................................C=5; total time=  30.7s\n",
      "[CV] END ................................................C=5; total time=  24.7s\n",
      "[CV] END ................................................C=5; total time=  22.4s\n",
      "[CV] END ................................................C=5; total time=  23.3s\n",
      "[CV] END ................................................C=5; total time=  45.6s\n",
      "[CV] END ................................................C=5; total time=  20.0s\n",
      "[CV] END ................................................C=5; total time=  33.4s\n",
      "[CV] END ................................................C=5; total time=  27.6s\n",
      "[CV] END ................................................C=5; total time= 1.2min\n",
      "[CV] END ................................................C=5; total time= 1.1min\n",
      "[CV] END ................................................C=6; total time=  27.0s\n",
      "[CV] END ................................................C=6; total time=  47.9s\n",
      "[CV] END ................................................C=6; total time=  22.2s\n",
      "[CV] END ................................................C=6; total time=  27.9s\n",
      "[CV] END ................................................C=6; total time=  40.3s\n",
      "[CV] END ................................................C=6; total time=  43.4s\n",
      "[CV] END ................................................C=6; total time=  23.9s\n",
      "[CV] END ................................................C=6; total time=  30.7s\n",
      "[CV] END ................................................C=6; total time=  36.4s\n",
      "[CV] END ................................................C=7; total time=  36.1s\n",
      "[CV] END ................................................C=6; total time=  42.6s\n",
      "[CV] END ................................................C=7; total time=  34.0s\n",
      "[CV] END ................................................C=7; total time=  44.6s\n",
      "[CV] END ................................................C=7; total time=  40.7s\n",
      "[CV] END ................................................C=7; total time=  33.9s\n",
      "[CV] END ................................................C=7; total time=  51.0s\n",
      "[CV] END ................................................C=7; total time=  46.5s\n",
      "[CV] END ................................................C=7; total time=  35.7s\n",
      "[CV] END ................................................C=7; total time=  41.2s\n",
      "[CV] END ................................................C=7; total time=  45.1s\n",
      "[CV] END ................................................C=8; total time=  41.2s\n",
      "[CV] END ................................................C=8; total time=  38.4s\n",
      "[CV] END ................................................C=8; total time=  50.4s\n",
      "[CV] END ................................................C=8; total time=  47.1s\n",
      "[CV] END ................................................C=8; total time=  36.6s\n",
      "[CV] END ................................................C=8; total time=  44.6s\n",
      "[CV] END ................................................C=8; total time=  44.3s\n",
      "[CV] END ................................................C=8; total time=  58.5s\n",
      "[CV] END ................................................C=8; total time=  57.7s\n",
      "[CV] END ................................................C=8; total time= 1.1min\n",
      "[CV] END ................................................C=9; total time=  58.4s\n",
      "[CV] END ................................................C=9; total time=  44.7s\n",
      "[CV] END ................................................C=9; total time=  45.8s\n",
      "[CV] END ................................................C=9; total time=  58.7s\n",
      "[CV] END ................................................C=9; total time= 1.6min\n",
      "[CV] END ................................................C=9; total time=  37.7s\n",
      "[CV] END ................................................C=9; total time= 1.6min\n",
      "[CV] END ................................................C=9; total time=  45.7s\n",
      "[CV] END ................................................C=9; total time=  41.7s\n",
      "[CV] END ................................................C=9; total time=  58.9s\n"
     ]
    },
    {
     "data": {
      "text/plain": [
       "GridSearchCV(cv=10, estimator=SVC(kernel='linear'), n_jobs=-1,\n",
       "             param_grid={'C': array([1, 2, 3, 4, 5, 6, 7, 8, 9])}, verbose=2)"
      ]
     },
     "execution_count": 17,
     "metadata": {},
     "output_type": "execute_result"
    }
   ],
   "source": [
    "# optimum C degerinin elde edilmesi\n",
    "svc_params = {'C': np.arange(1, 10)}\n",
    "\n",
    "svc_cv = GridSearchCV(svc, \n",
    "                      svc_params,\n",
    "                      cv = 10, n_jobs = -1,\n",
    "                      verbose = 2).fit(X_train, y_train)\n",
    "svc_cv # (5-10 dk. sürebilir!)"
   ]
  },
  {
   "cell_type": "code",
   "execution_count": 18,
   "metadata": {},
   "outputs": [
    {
     "data": {
      "text/plain": [
       "{'C': 8}"
      ]
     },
     "execution_count": 18,
     "metadata": {},
     "output_type": "execute_result"
    }
   ],
   "source": [
    "svc_cv.best_params_ # optimum C degeri"
   ]
  },
  {
   "cell_type": "code",
   "execution_count": 19,
   "metadata": {},
   "outputs": [
    {
     "data": {
      "text/plain": [
       "SVC(C=8, kernel='linear')"
      ]
     },
     "execution_count": 19,
     "metadata": {},
     "output_type": "execute_result"
    }
   ],
   "source": [
    "# optimum deger ile model kurulumu\n",
    "svc_linear = SVC(kernel = 'linear', C = 8).fit(X_train, y_train)\n",
    "svc_linear"
   ]
  },
  {
   "cell_type": "code",
   "execution_count": 41,
   "metadata": {},
   "outputs": [
    {
     "data": {
      "text/plain": [
       "0.7727272727272727"
      ]
     },
     "execution_count": 41,
     "metadata": {},
     "output_type": "execute_result"
    }
   ],
   "source": [
    "# tahminleme\n",
    "y_pred = svc_linear.predict(X_test)\n",
    "dogSkor_linear = accuracy_score(y_test, y_pred)\n",
    "dogSkor_linear # dogrulanmıs skor"
   ]
  },
  {
   "cell_type": "code",
   "execution_count": 21,
   "metadata": {},
   "outputs": [
    {
     "name": "stdout",
     "output_type": "stream",
     "text": [
      "              precision    recall  f1-score   support\n",
      "\n",
      "           0       0.81      0.84      0.83        99\n",
      "           1       0.69      0.65      0.67        55\n",
      "\n",
      "    accuracy                           0.77       154\n",
      "   macro avg       0.75      0.75      0.75       154\n",
      "weighted avg       0.77      0.77      0.77       154\n",
      "\n"
     ]
    }
   ],
   "source": [
    "print(classification_report(y_test, y_pred)) # sınıflandırma raporu"
   ]
  },
  {
   "cell_type": "markdown",
   "metadata": {},
   "source": [
    "### Model Kurulumu ve Tahminleme (Doğrusal Olmayan SVC)"
   ]
  },
  {
   "cell_type": "code",
   "execution_count": 27,
   "metadata": {},
   "outputs": [
    {
     "data": {
      "text/plain": [
       "SVC()"
      ]
     },
     "execution_count": 27,
     "metadata": {},
     "output_type": "execute_result"
    }
   ],
   "source": [
    "X = df.drop(['Outcome'], axis = 1) # outcome dısındaki bagımsız degiskenler\n",
    "y = df['Outcome'] # bagımlı degisken\n",
    "\n",
    "# %20'i test, %80'i egitim seti\n",
    "X_train, X_test, y_train, y_test = train_test_split(X,\n",
    "                                                    y,\n",
    "                                                    test_size = 0.2,\n",
    "                                                    random_state = 42)\n",
    "# model kurulumu\n",
    "svc2 = SVC(kernel = 'rbf').fit(X_train, y_train)\n",
    "svc2"
   ]
  },
  {
   "cell_type": "code",
   "execution_count": 28,
   "metadata": {},
   "outputs": [
    {
     "data": {
      "text/plain": [
       "0.7687296416938111"
      ]
     },
     "execution_count": 28,
     "metadata": {},
     "output_type": "execute_result"
    }
   ],
   "source": [
    "svc2.score(X_train, y_train) # modelin anlamlılık degeri"
   ]
  },
  {
   "cell_type": "code",
   "execution_count": 37,
   "metadata": {},
   "outputs": [
    {
     "data": {
      "text/plain": [
       "0.7662337662337663"
      ]
     },
     "execution_count": 37,
     "metadata": {},
     "output_type": "execute_result"
    }
   ],
   "source": [
    "# tahminleme\n",
    "y_pred = svc2.predict(X_test)\n",
    "skor_rbf = accuracy_score(y_test, y_pred)\n",
    "skor_rbf # modelin dogruluk skoru"
   ]
  },
  {
   "cell_type": "code",
   "execution_count": 30,
   "metadata": {},
   "outputs": [
    {
     "name": "stdout",
     "output_type": "stream",
     "text": [
      "              precision    recall  f1-score   support\n",
      "\n",
      "           0       0.78      0.88      0.83        99\n",
      "           1       0.72      0.56      0.63        55\n",
      "\n",
      "    accuracy                           0.77       154\n",
      "   macro avg       0.75      0.72      0.73       154\n",
      "weighted avg       0.76      0.77      0.76       154\n",
      "\n"
     ]
    }
   ],
   "source": [
    "print(classification_report(y_test, y_pred)) # sınıflandırma raporu"
   ]
  },
  {
   "cell_type": "markdown",
   "metadata": {},
   "source": [
    "### Model Tuning"
   ]
  },
  {
   "cell_type": "code",
   "execution_count": 31,
   "metadata": {},
   "outputs": [
    {
     "name": "stdout",
     "output_type": "stream",
     "text": [
      "Fitting 10 folds for each of 9 candidates, totalling 90 fits\n",
      "[CV] END ................................................C=1; total time=   0.0s\n",
      "[CV] END ................................................C=1; total time=   0.0s\n",
      "[CV] END ................................................C=1; total time=   0.0s\n",
      "[CV] END ................................................C=1; total time=   0.0s\n",
      "[CV] END ................................................C=1; total time=   0.1s\n",
      "[CV] END ................................................C=1; total time=   0.1s\n",
      "[CV] END ................................................C=1; total time=   0.1s\n",
      "[CV] END ................................................C=1; total time=   0.1s\n",
      "[CV] END ................................................C=1; total time=   0.1s\n",
      "[CV] END ................................................C=1; total time=   0.0s\n",
      "[CV] END ................................................C=2; total time=   0.0s\n",
      "[CV] END ................................................C=2; total time=   0.0s\n",
      "[CV] END ................................................C=2; total time=   0.0s\n",
      "[CV] END ................................................C=2; total time=   0.0s[CV] END ................................................C=2; total time=   0.0s\n",
      "\n",
      "[CV] END ................................................C=2; total time=   0.0s\n",
      "[CV] END ................................................C=2; total time=   0.0s\n",
      "[CV] END ................................................C=2; total time=   0.0s\n",
      "[CV] END ................................................C=2; total time=   0.0s\n",
      "[CV] END ................................................C=2; total time=   0.0s\n",
      "[CV] END ................................................C=3; total time=   0.0s\n",
      "[CV] END ................................................C=3; total time=   0.0s\n",
      "[CV] END ................................................C=3; total time=   0.0s\n",
      "[CV] END ................................................C=3; total time=   0.0s\n",
      "[CV] END ................................................C=3; total time=   0.0s\n",
      "[CV] END ................................................C=3; total time=   0.0s\n",
      "[CV] END ................................................C=3; total time=   0.0s\n",
      "[CV] END ................................................C=3; total time=   0.0s\n",
      "[CV] END ................................................C=3; total time=   0.0s\n",
      "[CV] END ................................................C=3; total time=   0.0s\n",
      "[CV] END ................................................C=4; total time=   0.0s\n",
      "[CV] END ................................................C=4; total time=   0.0s\n",
      "[CV] END ................................................C=4; total time=   0.0s\n",
      "[CV] END ................................................C=4; total time=   0.0s\n",
      "[CV] END ................................................C=4; total time=   0.0s\n",
      "[CV] END ................................................C=4; total time=   0.0s\n",
      "[CV] END ................................................C=4; total time=   0.0s\n",
      "[CV] END ................................................C=4; total time=   0.0s\n",
      "[CV] END ................................................C=4; total time=   0.0s\n",
      "[CV] END ................................................C=4; total time=   0.0s\n",
      "[CV] END ................................................C=5; total time=   0.0s\n",
      "[CV] END ................................................C=5; total time=   0.0s\n",
      "[CV] END ................................................C=5; total time=   0.0s\n",
      "[CV] END ................................................C=5; total time=   0.0s\n",
      "[CV] END ................................................C=5; total time=   0.0s\n",
      "[CV] END ................................................C=5; total time=   0.0s\n",
      "[CV] END ................................................C=5; total time=   0.0s\n",
      "[CV] END ................................................C=5; total time=   0.0s\n",
      "[CV] END ................................................C=5; total time=   0.0s\n",
      "[CV] END ................................................C=6; total time=   0.0s\n",
      "[CV] END ................................................C=6; total time=   0.0s\n",
      "[CV] END ................................................C=6; total time=   0.0s\n",
      "[CV] END ................................................C=5; total time=   0.0s\n",
      "[CV] END ................................................C=6; total time=   0.0s\n",
      "[CV] END ................................................C=6; total time=   0.0s\n",
      "[CV] END ................................................C=7; total time=   0.0s\n",
      "[CV] END ................................................C=6; total time=   0.0s\n",
      "[CV] END ................................................C=6; total time=   0.0s\n",
      "[CV] END ................................................C=6; total time=   0.0s\n",
      "[CV] END ................................................C=7; total time=   0.0s\n",
      "[CV] END ................................................C=6; total time=   0.0s\n",
      "[CV] END ................................................C=7; total time=   0.0s\n",
      "[CV] END ................................................C=7; total time=   0.0s\n",
      "[CV] END ................................................C=7; total time=   0.0s\n",
      "[CV] END ................................................C=7; total time=   0.1s\n",
      "[CV] END ................................................C=6; total time=   0.1s\n",
      "[CV] END ................................................C=7; total time=   0.0s\n",
      "[CV] END ................................................C=8; total time=   0.0s\n",
      "[CV] END ................................................C=7; total time=   0.0s\n",
      "[CV] END ................................................C=7; total time=   0.0s\n",
      "[CV] END ................................................C=7; total time=   0.0s\n",
      "[CV] END ................................................C=8; total time=   0.0s\n",
      "[CV] END ................................................C=8; total time=   0.0s\n",
      "[CV] END ................................................C=8; total time=   0.0s\n",
      "[CV] END ................................................C=8; total time=   0.0s\n",
      "[CV] END ................................................C=8; total time=   0.0s\n",
      "[CV] END ................................................C=9; total time=   0.0s\n",
      "[CV] END ................................................C=8; total time=   0.0s\n",
      "[CV] END ................................................C=8; total time=   0.0s\n",
      "[CV] END ................................................C=9; total time=   0.0s\n",
      "[CV] END ................................................C=8; total time=   0.0s\n",
      "[CV] END ................................................C=8; total time=   0.0s\n",
      "[CV] END ................................................C=9; total time=   0.0s\n",
      "[CV] END ................................................C=9; total time=   0.0s\n",
      "[CV] END ................................................C=9; total time=   0.0s\n",
      "[CV] END ................................................C=9; total time=   0.0s\n",
      "[CV] END ................................................C=9; total time=   0.0s\n",
      "[CV] END ................................................C=9; total time=   0.0s\n",
      "[CV] END ................................................C=9; total time=   0.0s\n",
      "[CV] END ................................................C=9; total time=   0.0s\n"
     ]
    },
    {
     "data": {
      "text/plain": [
       "GridSearchCV(cv=10, estimator=SVC(), n_jobs=-1,\n",
       "             param_grid={'C': array([1, 2, 3, 4, 5, 6, 7, 8, 9])}, verbose=2)"
      ]
     },
     "execution_count": 31,
     "metadata": {},
     "output_type": "execute_result"
    }
   ],
   "source": [
    "# optimum C degerinin elde edilmesi\n",
    "svc_params = {'C': np.arange(1, 10)}\n",
    "\n",
    "svc_cv2 = GridSearchCV(svc2, \n",
    "                      svc_params,\n",
    "                      cv = 10, n_jobs = -1,\n",
    "                      verbose = 2).fit(X_train, y_train)\n",
    "svc_cv2 # (5-10 dk. sürebilir!)"
   ]
  },
  {
   "cell_type": "code",
   "execution_count": 32,
   "metadata": {},
   "outputs": [
    {
     "data": {
      "text/plain": [
       "{'C': 7}"
      ]
     },
     "execution_count": 32,
     "metadata": {},
     "output_type": "execute_result"
    }
   ],
   "source": [
    "svc_cv2.best_params_ # optimum C degeri"
   ]
  },
  {
   "cell_type": "code",
   "execution_count": 36,
   "metadata": {},
   "outputs": [
    {
     "data": {
      "text/plain": [
       "SVC(C=7)"
      ]
     },
     "execution_count": 36,
     "metadata": {},
     "output_type": "execute_result"
    }
   ],
   "source": [
    "# optimum deger ile model kurulumu\n",
    "svc_rbf = SVC(kernel = 'rbf', C = 7).fit(X_train, y_train)\n",
    "svc_rbf"
   ]
  },
  {
   "cell_type": "code",
   "execution_count": 39,
   "metadata": {},
   "outputs": [
    {
     "data": {
      "text/plain": [
       "0.7662337662337663"
      ]
     },
     "execution_count": 39,
     "metadata": {},
     "output_type": "execute_result"
    }
   ],
   "source": [
    "# tahminleme\n",
    "y_pred = svc_rbf.predict(X_test)\n",
    "dogSkor_rbf = accuracy_score(y_test, y_pred) # modelin dogruluk skoru\n",
    "dogSkor_rbf"
   ]
  },
  {
   "cell_type": "code",
   "execution_count": 40,
   "metadata": {},
   "outputs": [
    {
     "name": "stdout",
     "output_type": "stream",
     "text": [
      "              precision    recall  f1-score   support\n",
      "\n",
      "           0       0.81      0.84      0.82        99\n",
      "           1       0.69      0.64      0.66        55\n",
      "\n",
      "    accuracy                           0.77       154\n",
      "   macro avg       0.75      0.74      0.74       154\n",
      "weighted avg       0.76      0.77      0.76       154\n",
      "\n"
     ]
    }
   ],
   "source": [
    "print(classification_report(y_test, y_pred)) # sınıflandırma raporu"
   ]
  },
  {
   "cell_type": "markdown",
   "metadata": {},
   "source": [
    "## SONUÇ"
   ]
  },
  {
   "cell_type": "markdown",
   "metadata": {},
   "source": [
    "Bu projede, belirli değerler göz önünde bulundurularak bir kişinin hasta olup olmadığını tahmin etmek için Destek Vektör Makine Sınıflandırıcı modeli kullanıldı.\n",
    "* Doğrusal modelin optimum dogruluk skoru: **0.7727272727272727**\n",
    "* Doğrusal olmayan modelin optimum dogruluk skoru: **0.7662337662337663**"
   ]
  }
 ],
 "metadata": {
  "interpreter": {
   "hash": "916dbcbb3f70747c44a77c7bcd40155683ae19c65e1c03b4aa3499c5328201f1"
  },
  "kernelspec": {
   "display_name": "Python 3.8.10 64-bit",
   "language": "python",
   "name": "python3"
  },
  "language_info": {
   "codemirror_mode": {
    "name": "ipython",
    "version": 3
   },
   "file_extension": ".py",
   "mimetype": "text/x-python",
   "name": "python",
   "nbconvert_exporter": "python",
   "pygments_lexer": "ipython3",
   "version": "3.8.10"
  },
  "orig_nbformat": 4
 },
 "nbformat": 4,
 "nbformat_minor": 2
}
